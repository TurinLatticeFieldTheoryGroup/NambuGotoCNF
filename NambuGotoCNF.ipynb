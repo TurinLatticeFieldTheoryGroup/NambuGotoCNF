{
  "nbformat": 4,
  "nbformat_minor": 0,
  "metadata": {
    "colab": {
      "provenance": []
    },
    "kernelspec": {
      "name": "python3",
      "display_name": "Python 3"
    },
    "language_info": {
      "name": "python"
    },
    "gpuClass": "standard",
    "accelerator": "GPU",
    "widgets": {
      "application/vnd.jupyter.widget-state+json": {
        "cf66fb7bbb2844c19862115348dd84c8": {
          "model_module": "@jupyter-widgets/controls",
          "model_name": "HBoxModel",
          "model_module_version": "1.5.0",
          "state": {
            "_dom_classes": [],
            "_model_module": "@jupyter-widgets/controls",
            "_model_module_version": "1.5.0",
            "_model_name": "HBoxModel",
            "_view_count": null,
            "_view_module": "@jupyter-widgets/controls",
            "_view_module_version": "1.5.0",
            "_view_name": "HBoxView",
            "box_style": "",
            "children": [
              "IPY_MODEL_b3daef31f4c94e2287625940c9932f7f",
              "IPY_MODEL_72339607a49e4a368de4c0b079b54f30",
              "IPY_MODEL_b390c85901e34efab103f060a00a2396"
            ],
            "layout": "IPY_MODEL_7a07b91ebff64d718781baecbe75760f"
          }
        },
        "b3daef31f4c94e2287625940c9932f7f": {
          "model_module": "@jupyter-widgets/controls",
          "model_name": "HTMLModel",
          "model_module_version": "1.5.0",
          "state": {
            "_dom_classes": [],
            "_model_module": "@jupyter-widgets/controls",
            "_model_module_version": "1.5.0",
            "_model_name": "HTMLModel",
            "_view_count": null,
            "_view_module": "@jupyter-widgets/controls",
            "_view_module_version": "1.5.0",
            "_view_name": "HTMLView",
            "description": "",
            "description_tooltip": null,
            "layout": "IPY_MODEL_4d53dc4e20d24c13b07b660455b5b9ba",
            "placeholder": "​",
            "style": "IPY_MODEL_47ca033a349c4a27b79dff6ac8616431",
            "value": "100%"
          }
        },
        "72339607a49e4a368de4c0b079b54f30": {
          "model_module": "@jupyter-widgets/controls",
          "model_name": "FloatProgressModel",
          "model_module_version": "1.5.0",
          "state": {
            "_dom_classes": [],
            "_model_module": "@jupyter-widgets/controls",
            "_model_module_version": "1.5.0",
            "_model_name": "FloatProgressModel",
            "_view_count": null,
            "_view_module": "@jupyter-widgets/controls",
            "_view_module_version": "1.5.0",
            "_view_name": "ProgressView",
            "bar_style": "success",
            "description": "",
            "description_tooltip": null,
            "layout": "IPY_MODEL_bff36421230349a3a6626187b40a7e1c",
            "max": 1000,
            "min": 0,
            "orientation": "horizontal",
            "style": "IPY_MODEL_030c16b95299463faef907e8e663752c",
            "value": 1000
          }
        },
        "b390c85901e34efab103f060a00a2396": {
          "model_module": "@jupyter-widgets/controls",
          "model_name": "HTMLModel",
          "model_module_version": "1.5.0",
          "state": {
            "_dom_classes": [],
            "_model_module": "@jupyter-widgets/controls",
            "_model_module_version": "1.5.0",
            "_model_name": "HTMLModel",
            "_view_count": null,
            "_view_module": "@jupyter-widgets/controls",
            "_view_module_version": "1.5.0",
            "_view_name": "HTMLView",
            "description": "",
            "description_tooltip": null,
            "layout": "IPY_MODEL_c1650c372dfb476185bd1276013c321e",
            "placeholder": "​",
            "style": "IPY_MODEL_0544f05200ed42b88b4ae647d4c066ce",
            "value": " 1000/1000 [09:19&lt;00:00,  1.29it/s]"
          }
        },
        "7a07b91ebff64d718781baecbe75760f": {
          "model_module": "@jupyter-widgets/base",
          "model_name": "LayoutModel",
          "model_module_version": "1.2.0",
          "state": {
            "_model_module": "@jupyter-widgets/base",
            "_model_module_version": "1.2.0",
            "_model_name": "LayoutModel",
            "_view_count": null,
            "_view_module": "@jupyter-widgets/base",
            "_view_module_version": "1.2.0",
            "_view_name": "LayoutView",
            "align_content": null,
            "align_items": null,
            "align_self": null,
            "border": null,
            "bottom": null,
            "display": null,
            "flex": null,
            "flex_flow": null,
            "grid_area": null,
            "grid_auto_columns": null,
            "grid_auto_flow": null,
            "grid_auto_rows": null,
            "grid_column": null,
            "grid_gap": null,
            "grid_row": null,
            "grid_template_areas": null,
            "grid_template_columns": null,
            "grid_template_rows": null,
            "height": null,
            "justify_content": null,
            "justify_items": null,
            "left": null,
            "margin": null,
            "max_height": null,
            "max_width": null,
            "min_height": null,
            "min_width": null,
            "object_fit": null,
            "object_position": null,
            "order": null,
            "overflow": null,
            "overflow_x": null,
            "overflow_y": null,
            "padding": null,
            "right": null,
            "top": null,
            "visibility": null,
            "width": null
          }
        },
        "4d53dc4e20d24c13b07b660455b5b9ba": {
          "model_module": "@jupyter-widgets/base",
          "model_name": "LayoutModel",
          "model_module_version": "1.2.0",
          "state": {
            "_model_module": "@jupyter-widgets/base",
            "_model_module_version": "1.2.0",
            "_model_name": "LayoutModel",
            "_view_count": null,
            "_view_module": "@jupyter-widgets/base",
            "_view_module_version": "1.2.0",
            "_view_name": "LayoutView",
            "align_content": null,
            "align_items": null,
            "align_self": null,
            "border": null,
            "bottom": null,
            "display": null,
            "flex": null,
            "flex_flow": null,
            "grid_area": null,
            "grid_auto_columns": null,
            "grid_auto_flow": null,
            "grid_auto_rows": null,
            "grid_column": null,
            "grid_gap": null,
            "grid_row": null,
            "grid_template_areas": null,
            "grid_template_columns": null,
            "grid_template_rows": null,
            "height": null,
            "justify_content": null,
            "justify_items": null,
            "left": null,
            "margin": null,
            "max_height": null,
            "max_width": null,
            "min_height": null,
            "min_width": null,
            "object_fit": null,
            "object_position": null,
            "order": null,
            "overflow": null,
            "overflow_x": null,
            "overflow_y": null,
            "padding": null,
            "right": null,
            "top": null,
            "visibility": null,
            "width": null
          }
        },
        "47ca033a349c4a27b79dff6ac8616431": {
          "model_module": "@jupyter-widgets/controls",
          "model_name": "DescriptionStyleModel",
          "model_module_version": "1.5.0",
          "state": {
            "_model_module": "@jupyter-widgets/controls",
            "_model_module_version": "1.5.0",
            "_model_name": "DescriptionStyleModel",
            "_view_count": null,
            "_view_module": "@jupyter-widgets/base",
            "_view_module_version": "1.2.0",
            "_view_name": "StyleView",
            "description_width": ""
          }
        },
        "bff36421230349a3a6626187b40a7e1c": {
          "model_module": "@jupyter-widgets/base",
          "model_name": "LayoutModel",
          "model_module_version": "1.2.0",
          "state": {
            "_model_module": "@jupyter-widgets/base",
            "_model_module_version": "1.2.0",
            "_model_name": "LayoutModel",
            "_view_count": null,
            "_view_module": "@jupyter-widgets/base",
            "_view_module_version": "1.2.0",
            "_view_name": "LayoutView",
            "align_content": null,
            "align_items": null,
            "align_self": null,
            "border": null,
            "bottom": null,
            "display": null,
            "flex": null,
            "flex_flow": null,
            "grid_area": null,
            "grid_auto_columns": null,
            "grid_auto_flow": null,
            "grid_auto_rows": null,
            "grid_column": null,
            "grid_gap": null,
            "grid_row": null,
            "grid_template_areas": null,
            "grid_template_columns": null,
            "grid_template_rows": null,
            "height": null,
            "justify_content": null,
            "justify_items": null,
            "left": null,
            "margin": null,
            "max_height": null,
            "max_width": null,
            "min_height": null,
            "min_width": null,
            "object_fit": null,
            "object_position": null,
            "order": null,
            "overflow": null,
            "overflow_x": null,
            "overflow_y": null,
            "padding": null,
            "right": null,
            "top": null,
            "visibility": null,
            "width": null
          }
        },
        "030c16b95299463faef907e8e663752c": {
          "model_module": "@jupyter-widgets/controls",
          "model_name": "ProgressStyleModel",
          "model_module_version": "1.5.0",
          "state": {
            "_model_module": "@jupyter-widgets/controls",
            "_model_module_version": "1.5.0",
            "_model_name": "ProgressStyleModel",
            "_view_count": null,
            "_view_module": "@jupyter-widgets/base",
            "_view_module_version": "1.2.0",
            "_view_name": "StyleView",
            "bar_color": null,
            "description_width": ""
          }
        },
        "c1650c372dfb476185bd1276013c321e": {
          "model_module": "@jupyter-widgets/base",
          "model_name": "LayoutModel",
          "model_module_version": "1.2.0",
          "state": {
            "_model_module": "@jupyter-widgets/base",
            "_model_module_version": "1.2.0",
            "_model_name": "LayoutModel",
            "_view_count": null,
            "_view_module": "@jupyter-widgets/base",
            "_view_module_version": "1.2.0",
            "_view_name": "LayoutView",
            "align_content": null,
            "align_items": null,
            "align_self": null,
            "border": null,
            "bottom": null,
            "display": null,
            "flex": null,
            "flex_flow": null,
            "grid_area": null,
            "grid_auto_columns": null,
            "grid_auto_flow": null,
            "grid_auto_rows": null,
            "grid_column": null,
            "grid_gap": null,
            "grid_row": null,
            "grid_template_areas": null,
            "grid_template_columns": null,
            "grid_template_rows": null,
            "height": null,
            "justify_content": null,
            "justify_items": null,
            "left": null,
            "margin": null,
            "max_height": null,
            "max_width": null,
            "min_height": null,
            "min_width": null,
            "object_fit": null,
            "object_position": null,
            "order": null,
            "overflow": null,
            "overflow_x": null,
            "overflow_y": null,
            "padding": null,
            "right": null,
            "top": null,
            "visibility": null,
            "width": null
          }
        },
        "0544f05200ed42b88b4ae647d4c066ce": {
          "model_module": "@jupyter-widgets/controls",
          "model_name": "DescriptionStyleModel",
          "model_module_version": "1.5.0",
          "state": {
            "_model_module": "@jupyter-widgets/controls",
            "_model_module_version": "1.5.0",
            "_model_name": "DescriptionStyleModel",
            "_view_count": null,
            "_view_module": "@jupyter-widgets/base",
            "_view_module_version": "1.2.0",
            "_view_name": "StyleView",
            "description_width": ""
          }
        }
      }
    }
  },
  "cells": [
    {
      "cell_type": "markdown",
      "source": [
        "# Continuous Normalizing Flows for Nambu-Goto string"
      ],
      "metadata": {
        "id": "ZDuZynq1oueF"
      }
    },
    {
      "cell_type": "markdown",
      "source": [
        "**If this code is useful for your research, please cite us:**\n"
      ],
      "metadata": {
        "id": "Lu6WwHcto0FH"
      }
    },
    {
      "cell_type": "markdown",
      "source": [
        "A differentiable ODE solver is needed to train the Continuous Normalizing Flows; we used the library [torchdiffeq](https://github.com/rtqichen/torchdiffeq)."
      ],
      "metadata": {
        "id": "p75Q_n9xNzT5"
      }
    },
    {
      "cell_type": "code",
      "source": [
        "try:\n",
        "    from torchdiffeq import odeint_adjoint as odeint\n",
        "except ModuleNotFoundError:\n",
        "    !pip -q install git+https://github.com/rtqichen/torchdiffeq\n",
        "    from torchdiffeq import odeint_adjoint as odeint"
      ],
      "metadata": {
        "id": "xjDTLujHDXE4"
      },
      "execution_count": 1,
      "outputs": []
    },
    {
      "cell_type": "code",
      "execution_count": 2,
      "metadata": {
        "id": "nsszOE_OPC-5"
      },
      "outputs": [],
      "source": [
        "import torch\n",
        "import numpy as np\n",
        "from scipy.special import logsumexp\n",
        "import matplotlib.pyplot as plt\n",
        "from tqdm.notebook import tqdm\n",
        "torch.pi = torch.acos(torch.zeros(1)).item() * 2"
      ]
    },
    {
      "cell_type": "code",
      "source": [
        "def grab(var):\n",
        "    if torch.is_tensor(var):\n",
        "        return var.detach().cpu().numpy()\n",
        "    else:\n",
        "        return var"
      ],
      "metadata": {
        "id": "nsq92tGAveEm"
      },
      "execution_count": 3,
      "outputs": []
    },
    {
      "cell_type": "code",
      "source": [
        "if torch.cuda.is_available():\n",
        "    torch_device = 'cuda'\n",
        "    float_dtype = np.float32 # single\n",
        "    torch.set_default_tensor_type(torch.cuda.FloatTensor)\n",
        "else:\n",
        "    torch_device = 'cpu'\n",
        "    float_dtype = np.float64 # double\n",
        "    torch.set_default_tensor_type(torch.DoubleTensor)\n",
        "print(f\"TORCH DEVICE: {torch_device}\")"
      ],
      "metadata": {
        "colab": {
          "base_uri": "https://localhost:8080/"
        },
        "id": "23PeX-iCvTAe",
        "outputId": "84174d1a-3b5b-4abb-efe8-4ff1e2ada56d"
      },
      "execution_count": 4,
      "outputs": [
        {
          "output_type": "stream",
          "name": "stdout",
          "text": [
            "TORCH DEVICE: cuda\n"
          ]
        }
      ]
    },
    {
      "cell_type": "markdown",
      "source": [
        "# Prior"
      ],
      "metadata": {
        "id": "vT2rutvQFcQZ"
      }
    },
    {
      "cell_type": "markdown",
      "source": [
        "The prior used in our work is a Normal distribution."
      ],
      "metadata": {
        "id": "komjM4OEFgM_"
      }
    },
    {
      "cell_type": "code",
      "source": [
        "class Prior:\n",
        "  def __init__(self,L,R,sd):\n",
        "    self.V=L*R\n",
        "    self.sd=sd\n",
        "    #we fixed the mean to zero\n",
        "  def sample_n(self, batch):\n",
        "    z=torch.Tensor(self.sd*np.random.randn(batch,self.V))\n",
        "    return z\n",
        "  def log_prob(self,z):\n",
        "    logz=z**2/(2*self.sd**2)\n",
        "    logz+=0.5*torch.log(torch.Tensor([2.0*torch.pi*self.sd**2]))\n",
        "    return -logz.sum(-1)\n"
      ],
      "metadata": {
        "id": "DyjCurDWF0tp"
      },
      "execution_count": 5,
      "outputs": []
    },
    {
      "cell_type": "markdown",
      "source": [
        "# Target"
      ],
      "metadata": {
        "id": "VjWSD9K4EfNb"
      }
    },
    {
      "cell_type": "markdown",
      "source": [
        "The target theory is the Nambu-Goto string regularized on a bi-dimensional lattice $\\Lambda$ with lattice step $a=1$ and sizes $|L\\times R|$:\n",
        "$$S[\\phi]=\\sigma\\sum_{x\\in \\Lambda}\\biggl(\\sqrt{1+(\\partial_\\mu\\phi)^2/σ}-1 \\biggr)$$\n",
        "where $\\sigma$ is the string tension, and:\n",
        "$$(\\partial_\\mu\\phi)^2=\\sum_{\\mu=1}^2\\bigl(\\phi(x)-\\phi(x-\\hat{\\mu})\\bigr)^2$$\n",
        "where $\\hat{\\mu}$ is a unit vector pointing the worldsheet coordinates $(\\tau,\\epsilon)$.\n",
        "\n",
        "We fixed periodic boundary conditions along $L$ and Dirchilet along $R$."
      ],
      "metadata": {
        "id": "JG9khmaGBGZn"
      }
    },
    {
      "cell_type": "markdown",
      "source": [
        "Since the Dirichlet boundaries are fixed, the \"active\" volume of the lattices generated by the CNFs is $|L\\times (R-1)|$. To use the Dirichlet boundary conditions, we add a zero padding in $\\epsilon=R$, and we then use periodic boundary conditions to obtain the Dirichlet boundary in $\\epsilon=0$."
      ],
      "metadata": {
        "id": "iskxjhRdDwWw"
      }
    },
    {
      "cell_type": "code",
      "source": [
        "dir=torch.nn.ZeroPad2d((0,1,0,0))\n",
        "def S(cfgs,sigma):\n",
        "  cfgs=dir(cfgs)\n",
        "  act=(cfgs-torch.roll(cfgs,1,1))**2+(cfgs-torch.roll(cfgs,1,2))**2\n",
        "  act=(torch.sqrt(1+act/sigma)-1).sum((1,2))\n",
        "  return sigma*act"
      ],
      "metadata": {
        "id": "Gvx2T0zQvpcN"
      },
      "execution_count": 6,
      "outputs": []
    },
    {
      "cell_type": "markdown",
      "source": [
        "# CNF"
      ],
      "metadata": {
        "id": "G7STkQ85Eh_E"
      }
    },
    {
      "cell_type": "markdown",
      "source": [
        "The CNFs used in our work use a linear, continuous in-time, vector field:\n",
        "$$\\frac{d\\phi(t)_x}{dt}=g_\\theta(\\phi(t),t)=\\sum_{y,f}K(t)_fW_{f,x,y}\\phi(t)_y$$\n",
        "where $x$ and $y$ represent the active sites of the lattices and the temporal $K(t)\\in \\mathbb{R}^F$ is inspired by: [Learning Lattice Quantum Field Theories with Equivariant Continuous Flows](https://arxiv.org/abs/2207.00283).\n",
        "\n",
        "The divergence of the vector field can be computed as:\n",
        "$$\\bigl(\\nabla \\cdot g_\\theta)(\\phi(t),t)=Tr\\biggl[ \\sum_{f} K(t)_f W_f \\biggr]$$"
      ],
      "metadata": {
        "id": "1DdXwWh_Ebcx"
      }
    },
    {
      "cell_type": "markdown",
      "source": [
        "Code for the temporal kernel $K(t)$:"
      ],
      "metadata": {
        "id": "s92-d4BkI9pl"
      }
    },
    {
      "cell_type": "code",
      "source": [
        "def cos_base(mode,t,T):\n",
        "  return torch.cos(2.0*torch.pi*t*mode/T)\n",
        "\n",
        "def sin_base(mode,t,T):\n",
        "  return torch.sin(2.0*torch.pi*t*mode/T)\n",
        "\n",
        "def make_K(t,T,F):\n",
        "  #F must be odd!!!\n",
        "  return torch.hstack((torch.tensor([1.0]),cos_base(torch.arange(1,(F-1)/2+1,1),t,T),sin_base(torch.arange(1,(F-1)/2+1,1),t,T)))"
      ],
      "metadata": {
        "id": "dpNzmMVNf-7v"
      },
      "execution_count": 7,
      "outputs": []
    },
    {
      "cell_type": "markdown",
      "source": [
        "Vector Field:"
      ],
      "metadata": {
        "id": "rGt5A1_3E_sN"
      }
    },
    {
      "cell_type": "code",
      "source": [
        "class G(torch.nn.Module):\n",
        "    def __init__(self,T,L,R,F):\n",
        "        super().__init__()\n",
        "        self.T=T\n",
        "        self.F=F\n",
        "        self.w = torch.nn.Parameter(torch.zeros(L*R,L*R,F))  #Identity initialization\n",
        "\n",
        "    def forward(self,t,data):\n",
        "        z, logz = data[0], data[1]\n",
        "        K=make_K(t,self.T,self.F)\n",
        "        dlogP=torch.ones(z.shape[0])*torch.diag(torch.matmul(self.w,K)).sum(-1)  #Divergence of the vector field\n",
        "        dx=torch.matmul(z,torch.matmul(self.w,K)) #Vector field\n",
        "        return dx, -dlogP\n"
      ],
      "metadata": {
        "id": "yva46tUKHkRO"
      },
      "execution_count": 8,
      "outputs": []
    },
    {
      "cell_type": "markdown",
      "source": [
        "The generated samples $\\phi$ and the learned density $q_\\theta$ can be computed by solving the ODEs:\n",
        "$$\n",
        "\\begin{cases}\n",
        "      \\frac{d\\phi(t)_x}{dt}=g_\\theta(\\phi(t),t)\\\\\n",
        "       \\frac{d \\log q(\\phi(t))}{d t}=-\\bigl(\\nabla \\cdot g_\\theta)(\\phi(t),t).\n",
        "  \\end{cases}\\\n",
        "  $$\n",
        "with boundary conditions: $\\phi(0)=z$ (z prior configurations) and $\\phi(T)=\\phi$ where $T=1$ (hyperparameter):\n",
        "```python\n",
        "z = prior.sample_n(50000)\n",
        "logz=prior.log_prob(z)\n",
        "phi,logphi = odeint(g,(z,logz),times,method='rk4')\n",
        "```\n",
        "\n",
        "where 'odeint' is an ODE solver that must be differentiable through the adjoint sensitivity method: [Neural Ordinary Differential Equations\n",
        "](https://arxiv.org/abs/1806.07366)"
      ],
      "metadata": {
        "id": "k6iRAJtjEpfq"
      }
    },
    {
      "cell_type": "markdown",
      "source": [
        "## Training of the CNFs"
      ],
      "metadata": {
        "id": "dvwF5vwfFE9G"
      }
    },
    {
      "cell_type": "markdown",
      "source": [
        "The training of the CNFs is done by minimizing the variational free energy:\n",
        "$$F_q=\\int d\\phi q(\\phi)[ \\log q(\\phi)+S(\\phi)] $$\n",
        "where $\\phi$ are the generated samples and $\\log q(\\phi)$ the corresponding learned density."
      ],
      "metadata": {
        "id": "D0oS4OS7Dm57"
      }
    },
    {
      "cell_type": "markdown",
      "source": [
        "Model's parameters:"
      ],
      "metadata": {
        "id": "XZEOx_x-zzEF"
      }
    },
    {
      "cell_type": "code",
      "source": [
        "T=1.0\n",
        "L=20\n",
        "R=19\n",
        "sigma=100.0\n",
        "F=3"
      ],
      "metadata": {
        "id": "WVfjzZmZupQF"
      },
      "execution_count": 9,
      "outputs": []
    },
    {
      "cell_type": "code",
      "source": [
        "g=G(T,L,R,F).to(torch_device)"
      ],
      "metadata": {
        "id": "MxPAnhorupM9"
      },
      "execution_count": 10,
      "outputs": []
    },
    {
      "cell_type": "code",
      "source": [
        "sd=0.5 #Prior standard deviation"
      ],
      "metadata": {
        "id": "SHZo5Rm4SCKC"
      },
      "execution_count": 11,
      "outputs": []
    },
    {
      "cell_type": "code",
      "source": [
        "prior = Prior(L,R,sd)"
      ],
      "metadata": {
        "id": "3zPOH5kB-Wpn"
      },
      "execution_count": 12,
      "outputs": []
    },
    {
      "cell_type": "code",
      "source": [
        "dt=0.08"
      ],
      "metadata": {
        "id": "8dQqW-LCSIsS"
      },
      "execution_count": 13,
      "outputs": []
    },
    {
      "cell_type": "code",
      "source": [
        "times=torch.arange(0,T+dt,dt) #Integration steps\n",
        "times.shape"
      ],
      "metadata": {
        "colab": {
          "base_uri": "https://localhost:8080/"
        },
        "id": "Kz8zQ6PGEaKh",
        "outputId": "47ccf1da-3e90-43c5-b7dd-aac937cc2ac4"
      },
      "execution_count": 14,
      "outputs": [
        {
          "output_type": "execute_result",
          "data": {
            "text/plain": [
              "torch.Size([14])"
            ]
          },
          "metadata": {},
          "execution_count": 14
        }
      ]
    },
    {
      "cell_type": "markdown",
      "source": [
        "Function used to compute $-\\log Z$ and $ESS$:"
      ],
      "metadata": {
        "id": "jZDPINFYzsl8"
      }
    },
    {
      "cell_type": "code",
      "source": [
        "def compute_metrics(w):\n",
        "    N = len(w)\n",
        "    logZ = logsumexp(-w)\n",
        "    log_ess = 2.0 * logZ - logsumexp(-2 * w)\n",
        "    ess_per_cfg = np.exp(log_ess) / N #ESS\n",
        "    logZ = logZ - np.log(N) #logZ\n",
        "    return ess_per_cfg, -logZ"
      ],
      "metadata": {
        "id": "0doP-evNucLx"
      },
      "execution_count": 15,
      "outputs": []
    },
    {
      "cell_type": "code",
      "source": [
        "history={'loss':[],'ESS':[]}"
      ],
      "metadata": {
        "id": "3zfaVQ-0zL4e"
      },
      "execution_count": 16,
      "outputs": []
    },
    {
      "cell_type": "code",
      "source": [
        "n_epochs=1000\n",
        "batch_size=10000"
      ],
      "metadata": {
        "id": "2Zgp8BhbVWEh"
      },
      "execution_count": 17,
      "outputs": []
    },
    {
      "cell_type": "markdown",
      "source": [
        "Training loop:"
      ],
      "metadata": {
        "id": "d5LSgLBezork"
      }
    },
    {
      "cell_type": "code",
      "source": [
        "optimizer = torch.optim.Adam(g.parameters(), lr=0.0005,betas=(0.8,0.9))\n",
        "scheduler = torch.optim.lr_scheduler.CosineAnnealingLR(optimizer, T_max=n_epochs)\n",
        "for t in tqdm(range(n_epochs)):\n",
        "    # Forward pass: Compute predicted phi by passing z to the model\n",
        "    optimizer.zero_grad()\n",
        "    z = prior.sample_n(batch_size)\n",
        "    logz=prior.log_prob(z)\n",
        "\n",
        "    ##ODE integration\n",
        "    phi,logphi = odeint(g,(z,logz),times,method='rk4')\n",
        "\n",
        "    # Compute and print loss and metrics\n",
        "    s=S(phi[-1].reshape((-1,L,R)),sigma)\n",
        "    w = logphi[-1]+s\n",
        "    loss=w.mean()\n",
        "    ess,betaF=compute_metrics(grab(w))\n",
        "    history['loss'].append(grab(loss))\n",
        "    history['ESS'].append(ess)\n",
        "    print('Epoch:', t, 'loss:', grab(loss), '-logZ:', betaF, 'ESS:', ess, 'loss var:',grab(w.var()))\n",
        "    #Backward\n",
        "    loss.backward()\n",
        "    optimizer.step()\n",
        "    scheduler.step()"
      ],
      "metadata": {
        "colab": {
          "base_uri": "https://localhost:8080/",
          "height": 1000,
          "referenced_widgets": [
            "cf66fb7bbb2844c19862115348dd84c8",
            "b3daef31f4c94e2287625940c9932f7f",
            "72339607a49e4a368de4c0b079b54f30",
            "b390c85901e34efab103f060a00a2396",
            "7a07b91ebff64d718781baecbe75760f",
            "4d53dc4e20d24c13b07b660455b5b9ba",
            "47ca033a349c4a27b79dff6ac8616431",
            "bff36421230349a3a6626187b40a7e1c",
            "030c16b95299463faef907e8e663752c",
            "c1650c372dfb476185bd1276013c321e",
            "0544f05200ed42b88b4ae647d4c066ce"
          ]
        },
        "id": "LghLdU8Cnjvm",
        "outputId": "7a5f6383-a079-47d7-bcf3-196de49d042d"
      },
      "execution_count": 18,
      "outputs": [
        {
          "output_type": "display_data",
          "data": {
            "text/plain": [
              "  0%|          | 0/1000 [00:00<?, ?it/s]"
            ],
            "application/vnd.jupyter.widget-view+json": {
              "version_major": 2,
              "version_minor": 0,
              "model_id": "cf66fb7bbb2844c19862115348dd84c8"
            }
          },
          "metadata": {}
        },
        {
          "output_type": "stream",
          "name": "stdout",
          "text": [
            "Epoch: 0 loss: -86.92631 -logZ: -104.29088796054334 ESS: 0.00016737651735674108 loss var: 44.780563\n",
            "Epoch: 1 loss: -86.987564 -logZ: -107.14447225009413 ESS: 0.00011522933228473695 loss var: 44.43052\n",
            "Epoch: 2 loss: -87.19322 -logZ: -108.80866444980116 ESS: 0.000102477707143855 loss var: 45.119392\n",
            "Epoch: 3 loss: -87.3231 -logZ: -114.16434682284803 ESS: 0.00010004120721831129 loss var: 45.997147\n",
            "Epoch: 4 loss: -87.4164 -logZ: -103.527986654391 ESS: 0.00027102057001700107 loss var: 44.162247\n",
            "Epoch: 5 loss: -87.63565 -logZ: -108.3926335660121 ESS: 0.00013699908721429214 loss var: 44.421585\n",
            "Epoch: 6 loss: -87.68933 -logZ: -111.09382832919569 ESS: 0.00010114017907962278 loss var: 44.095905\n",
            "Epoch: 7 loss: -87.91746 -logZ: -103.93341267978163 ESS: 0.0006697187231599867 loss var: 43.73621\n",
            "Epoch: 8 loss: -88.16827 -logZ: -103.83705342685194 ESS: 0.000433949585408176 loss var: 44.064125\n",
            "Epoch: 9 loss: -88.348526 -logZ: -108.60290730868788 ESS: 0.00017463460519386777 loss var: 43.03885\n",
            "Epoch: 10 loss: -88.610985 -logZ: -106.67720998202772 ESS: 0.00010802353727019215 loss var: 42.167995\n",
            "Epoch: 11 loss: -88.73379 -logZ: -106.76718343173475 ESS: 0.00013154784495962108 loss var: 42.693123\n",
            "Epoch: 12 loss: -88.91206 -logZ: -107.48667348300428 ESS: 0.0002113385186386394 loss var: 42.58134\n",
            "Epoch: 13 loss: -89.326485 -logZ: -107.01118672763319 ESS: 0.0002002317820760362 loss var: 42.351246\n",
            "Epoch: 14 loss: -89.445595 -logZ: -111.83295644198866 ESS: 0.00010064446280174215 loss var: 41.86885\n",
            "Epoch: 15 loss: -89.68931 -logZ: -104.27142537509413 ESS: 0.0006957281565351763 loss var: 41.878006\n",
            "Epoch: 16 loss: -89.95301 -logZ: -107.71239674960584 ESS: 0.0002590756902181708 loss var: 42.224297\n",
            "Epoch: 17 loss: -90.162025 -logZ: -107.98649800693006 ESS: 0.00016062093358281592 loss var: 40.32947\n",
            "Epoch: 18 loss: -90.30622 -logZ: -106.687410482516 ESS: 0.00043422777943951453 loss var: 40.34178\n",
            "Epoch: 19 loss: -90.58267 -logZ: -107.20302785312147 ESS: 0.0003104564770894329 loss var: 40.519844\n",
            "Epoch: 20 loss: -90.874374 -logZ: -107.23339284335584 ESS: 0.0002467820990719209 loss var: 39.647984\n",
            "Epoch: 21 loss: -90.99993 -logZ: -106.94838155185194 ESS: 0.0005577381954004547 loss var: 39.149345\n",
            "Epoch: 22 loss: -91.237495 -logZ: -107.47261250888319 ESS: 0.0001388786266026529 loss var: 38.78766\n",
            "Epoch: 23 loss: -91.484886 -logZ: -111.86802876864881 ESS: 0.00010089817463654391 loss var: 39.462723\n",
            "Epoch: 24 loss: -91.74065 -logZ: -109.33681691562147 ESS: 0.00022325543141176891 loss var: 38.469296\n",
            "Epoch: 25 loss: -91.99157 -logZ: -109.87091267978163 ESS: 0.00048698778159685004 loss var: 39.282814\n",
            "Epoch: 26 loss: -92.243225 -logZ: -109.4130193081996 ESS: 0.0001620957408816799 loss var: 38.44763\n",
            "Epoch: 27 loss: -92.64803 -logZ: -110.5552312222621 ESS: 0.00010755643052701242 loss var: 37.753414\n",
            "Epoch: 28 loss: -92.73812 -logZ: -111.2267400113246 ESS: 0.00010130699036923718 loss var: 36.94646\n",
            "Epoch: 29 loss: -93.1353 -logZ: -108.26642812167616 ESS: 0.00020212888480975963 loss var: 37.65287\n",
            "Epoch: 30 loss: -93.399796 -logZ: -108.4312840787074 ESS: 0.00033946944097958565 loss var: 37.03961\n",
            "Epoch: 31 loss: -93.72022 -logZ: -109.15524495517225 ESS: 0.0003935331479937818 loss var: 36.023243\n",
            "Epoch: 32 loss: -94.043175 -logZ: -110.6533299771449 ESS: 0.00021918463321787303 loss var: 36.774982\n",
            "Epoch: 33 loss: -94.26525 -logZ: -109.47287190829725 ESS: 0.0008637363727372119 loss var: 36.34408\n",
            "Epoch: 34 loss: -94.68151 -logZ: -112.733064779391 ESS: 0.00012457740704879084 loss var: 35.533257\n",
            "Epoch: 35 loss: -94.93845 -logZ: -109.36786092196913 ESS: 0.0001959787999184504 loss var: 35.084064\n",
            "Epoch: 36 loss: -95.362656 -logZ: -110.17389119540663 ESS: 0.00027984564383697215 loss var: 33.4719\n",
            "Epoch: 37 loss: -95.63852 -logZ: -109.40577901278944 ESS: 0.0002780239934758377 loss var: 33.52113\n",
            "Epoch: 38 loss: -95.92689 -logZ: -111.27565968905897 ESS: 0.00019869781961023803 loss var: 32.987007\n",
            "Epoch: 39 loss: -96.4715 -logZ: -111.97755635653944 ESS: 0.00020265079435466792 loss var: 33.48525\n",
            "Epoch: 40 loss: -96.79661 -logZ: -111.549226888766 ESS: 0.0003864695653015468 loss var: 33.461582\n",
            "Epoch: 41 loss: -97.11077 -logZ: -113.2290135708949 ESS: 0.00021093258798186425 loss var: 33.35525\n",
            "Epoch: 42 loss: -97.40729 -logZ: -114.12253011142225 ESS: 0.00011663744143776362 loss var: 31.950523\n",
            "Epoch: 43 loss: -97.79641 -logZ: -113.24178517734022 ESS: 0.0003329238270651163 loss var: 32.636303\n",
            "Epoch: 44 loss: -98.21785 -logZ: -111.69379628573866 ESS: 0.00045494183501001994 loss var: 31.129156\n",
            "Epoch: 45 loss: -98.62078 -logZ: -111.55021871005506 ESS: 0.00033780045193089383 loss var: 31.235601\n",
            "Epoch: 46 loss: -99.071175 -logZ: -113.4541112271449 ESS: 0.0001166872849759732 loss var: 30.756445\n",
            "Epoch: 47 loss: -99.3818 -logZ: -114.66625417148084 ESS: 0.00020353709770520916 loss var: 30.37127\n",
            "Epoch: 48 loss: -99.79374 -logZ: -113.23085225497694 ESS: 0.00041114996561473013 loss var: 29.34695\n",
            "Epoch: 49 loss: -100.10996 -logZ: -113.64774526034803 ESS: 0.00013595991877295556 loss var: 28.951468\n",
            "Epoch: 50 loss: -100.6352 -logZ: -113.6923161831996 ESS: 0.0012251654765210438 loss var: 28.800493\n",
            "Epoch: 51 loss: -101.09551 -logZ: -115.25394643222303 ESS: 0.00026249382528598726 loss var: 27.970772\n",
            "Epoch: 52 loss: -101.44214 -logZ: -114.64813435946913 ESS: 0.00027381388626055434 loss var: 28.68406\n",
            "Epoch: 53 loss: -101.87956 -logZ: -114.63117421542616 ESS: 0.00032266606692213276 loss var: 27.795698\n",
            "Epoch: 54 loss: -102.432274 -logZ: -117.15617574130506 ESS: 0.00034249233830874355 loss var: 26.289944\n",
            "Epoch: 55 loss: -102.816025 -logZ: -115.40795339023084 ESS: 0.0004986428742642953 loss var: 26.747421\n",
            "Epoch: 56 loss: -103.26708 -logZ: -117.19758809482069 ESS: 0.0004286649266917876 loss var: 26.234785\n",
            "Epoch: 57 loss: -103.53104 -logZ: -116.2947102872035 ESS: 0.0005187677027419641 loss var: 25.383867\n",
            "Epoch: 58 loss: -104.03295 -logZ: -114.7707616177699 ESS: 0.001548139967300002 loss var: 25.086874\n",
            "Epoch: 59 loss: -104.49582 -logZ: -115.04853261386366 ESS: 0.0009300393979930685 loss var: 23.828012\n",
            "Epoch: 60 loss: -105.01497 -logZ: -117.12702382480116 ESS: 0.00047296361071806105 loss var: 23.776606\n",
            "Epoch: 61 loss: -105.39472 -logZ: -119.23079121982069 ESS: 0.000156297997316221 loss var: 23.963367\n",
            "Epoch: 62 loss: -105.77386 -logZ: -117.48600972568006 ESS: 0.00030002446869424945 loss var: 23.006365\n",
            "Epoch: 63 loss: -106.277695 -logZ: -117.30869496737928 ESS: 0.00045850299179147003 loss var: 22.910479\n",
            "Epoch: 64 loss: -106.727776 -logZ: -119.83227742587538 ESS: 0.00010742849456679331 loss var: 22.493423\n",
            "Epoch: 65 loss: -107.171196 -logZ: -118.57316029941053 ESS: 0.00016220955651787916 loss var: 21.88251\n",
            "Epoch: 66 loss: -107.668175 -logZ: -118.77951253329725 ESS: 0.00026789987265963313 loss var: 21.369\n",
            "Epoch: 67 loss: -107.990074 -logZ: -118.55231679355116 ESS: 0.000562945190569747 loss var: 20.672014\n",
            "Epoch: 68 loss: -108.457 -logZ: -119.30888570224256 ESS: 0.00025904801942681904 loss var: 20.193247\n",
            "Epoch: 69 loss: -108.908745 -logZ: -118.67788136874647 ESS: 0.00026575017097706994 loss var: 19.60193\n",
            "Epoch: 70 loss: -109.33715 -logZ: -120.00490010653944 ESS: 0.00043229075621528787 loss var: 19.81012\n",
            "Epoch: 71 loss: -109.7837 -logZ: -119.85132039462538 ESS: 0.0005350146926550757 loss var: 19.274279\n",
            "Epoch: 72 loss: -110.16475 -logZ: -121.18405354892225 ESS: 0.00014241521584937547 loss var: 18.473648\n",
            "Epoch: 73 loss: -110.67241 -logZ: -120.28093160068006 ESS: 0.0005939266811563166 loss var: 17.790854\n",
            "Epoch: 74 loss: -111.108284 -logZ: -120.35019124423475 ESS: 0.00040367777106244704 loss var: 17.580294\n",
            "Epoch: 75 loss: -111.5507 -logZ: -121.10251058017225 ESS: 0.00026072942252328477 loss var: 17.42168\n",
            "Epoch: 76 loss: -111.9796 -logZ: -124.45286763583631 ESS: 0.00010557271131676997 loss var: 16.859991\n",
            "Epoch: 77 loss: -112.39715 -logZ: -121.68869222079725 ESS: 0.00019817097078696574 loss var: 16.092825\n",
            "Epoch: 78 loss: -112.80755 -logZ: -124.18980611239881 ESS: 0.00010566296092710547 loss var: 15.5500765\n",
            "Epoch: 79 loss: -113.206024 -logZ: -123.545564779391 ESS: 0.00040616155392882185 loss var: 15.393804\n",
            "Epoch: 80 loss: -113.617386 -logZ: -121.58563435946913 ESS: 0.0024001122160382735 loss var: 14.9555645\n",
            "Epoch: 81 loss: -114.05963 -logZ: -122.48358357821913 ESS: 0.0006347836293587878 loss var: 14.389157\n",
            "Epoch: 82 loss: -114.433075 -logZ: -121.94774068271131 ESS: 0.0015278871820347303 loss var: 13.843216\n",
            "Epoch: 83 loss: -114.80857 -logZ: -122.81959737216444 ESS: 0.0008071080413173012 loss var: 14.076961\n",
            "Epoch: 84 loss: -115.18607 -logZ: -123.49327290927381 ESS: 0.0002290909670258007 loss var: 13.598888\n",
            "Epoch: 85 loss: -115.5583 -logZ: -122.51188863193006 ESS: 0.0022959413514779797 loss var: 13.079905\n",
            "Epoch: 86 loss: -115.9198 -logZ: -123.19455159579725 ESS: 0.0012002043228035953 loss var: 12.645173\n",
            "Epoch: 87 loss: -116.346725 -logZ: -122.74005330478163 ESS: 0.003043485138505147 loss var: 12.132483\n",
            "Epoch: 88 loss: -116.69222 -logZ: -124.64825642978163 ESS: 0.0003101534449250321 loss var: 11.807509\n",
            "Epoch: 89 loss: -117.01397 -logZ: -125.38646138583631 ESS: 0.0003709446107706892 loss var: 11.363571\n",
            "Epoch: 90 loss: -117.37471 -logZ: -123.27609456454725 ESS: 0.0032057440101382296 loss var: 10.869301\n",
            "Epoch: 91 loss: -117.80381 -logZ: -124.02142537509413 ESS: 0.0011668689922190417 loss var: 10.675902\n",
            "Epoch: 92 loss: -118.043526 -logZ: -124.00404561435194 ESS: 0.002616052797679096 loss var: 10.427088\n",
            "Epoch: 93 loss: -118.3881 -logZ: -124.29918111239881 ESS: 0.0016057139261127613 loss var: 9.869545\n",
            "Epoch: 94 loss: -118.755325 -logZ: -124.81971944247694 ESS: 0.0010416423977287564 loss var: 9.494304\n",
            "Epoch: 95 loss: -119.050995 -logZ: -124.52453816806288 ESS: 0.0019452129364540265 loss var: 9.134492\n",
            "Epoch: 96 loss: -119.34912 -logZ: -124.34541524325819 ESS: 0.002116476237153963 loss var: 8.911477\n",
            "Epoch: 97 loss: -119.65731 -logZ: -125.88585103427381 ESS: 0.00017916372790358488 loss var: 8.205258\n",
            "Epoch: 98 loss: -119.96308 -logZ: -125.430574545016 ESS: 0.0012739122043355596 loss var: 8.231413\n",
            "Epoch: 99 loss: -120.19452 -logZ: -124.58229268466444 ESS: 0.006580771367388485 loss var: 7.871541\n",
            "Epoch: 100 loss: -120.519844 -logZ: -124.93144429599256 ESS: 0.004723778451804773 loss var: 7.7350225\n",
            "Epoch: 101 loss: -120.745674 -logZ: -125.84240926181288 ESS: 0.000510530166029425 loss var: 7.222441\n",
            "Epoch: 102 loss: -121.01412 -logZ: -125.03134358798475 ESS: 0.005016327589607277 loss var: 7.044656\n",
            "Epoch: 103 loss: -121.25357 -logZ: -125.1689778653285 ESS: 0.006041989024212305 loss var: 6.5306435\n",
            "Epoch: 104 loss: -121.48192 -logZ: -125.79150594150038 ESS: 0.000832042536316152 loss var: 6.5801206\n",
            "Epoch: 105 loss: -121.75447 -logZ: -125.4392415372035 ESS: 0.004542120215744262 loss var: 6.272027\n",
            "Epoch: 106 loss: -121.91616 -logZ: -125.32948506747694 ESS: 0.006143507689895736 loss var: 5.9825506\n",
            "Epoch: 107 loss: -122.12645 -logZ: -126.16859639560194 ESS: 0.000334834293158931 loss var: 5.5773025\n",
            "Epoch: 108 loss: -122.35043 -logZ: -126.097566732516 ESS: 0.002033532698498444 loss var: 5.4883447\n",
            "Epoch: 109 loss: -122.51107 -logZ: -125.51742757235975 ESS: 0.014237516435843965 loss var: 5.2551093\n",
            "Epoch: 110 loss: -122.67507 -logZ: -125.81514180575819 ESS: 0.005346212122588319 loss var: 5.0709987\n",
            "Epoch: 111 loss: -122.863144 -logZ: -125.80021871005506 ESS: 0.005105284782783649 loss var: 4.7471166\n",
            "Epoch: 112 loss: -123.05052 -logZ: -125.83409322177381 ESS: 0.005201372199864681 loss var: 4.523888\n",
            "Epoch: 113 loss: -123.19616 -logZ: -125.62889302646131 ESS: 0.022423378911516186 loss var: 4.2441077\n",
            "Epoch: 114 loss: -123.35216 -logZ: -125.82975972568006 ESS: 0.014742007032692786 loss var: 4.1256237\n",
            "Epoch: 115 loss: -123.48472 -logZ: -125.82313741122694 ESS: 0.009051849543010715 loss var: 3.825367\n",
            "Epoch: 116 loss: -123.576645 -logZ: -125.9927083340785 ESS: 0.005106531342363047 loss var: 3.755218\n",
            "Epoch: 117 loss: -123.69912 -logZ: -125.87715352450819 ESS: 0.02284541306896471 loss var: 3.6983373\n",
            "Epoch: 118 loss: -123.822296 -logZ: -126.022615560641 ESS: 0.008105363402327459 loss var: 3.5192885\n",
            "Epoch: 119 loss: -123.97212 -logZ: -125.95854390536756 ESS: 0.013309354756060241 loss var: 3.3637688\n",
            "Epoch: 120 loss: -124.05682 -logZ: -125.88038838778944 ESS: 0.024083952958665427 loss var: 3.1307604\n",
            "Epoch: 121 loss: -124.16691 -logZ: -126.03061116610975 ESS: 0.0060303838109808236 loss var: 3.034717\n",
            "Epoch: 122 loss: -124.22267 -logZ: -125.86238301669569 ESS: 0.03592223838727656 loss var: 2.869178\n",
            "Epoch: 123 loss: -124.286644 -logZ: -125.88841451083631 ESS: 0.04160698985405197 loss var: 2.744702\n",
            "Epoch: 124 loss: -124.38967 -logZ: -126.01481831943006 ESS: 0.006896168257799307 loss var: 2.6765423\n",
            "Epoch: 125 loss: -124.427185 -logZ: -125.85808003818006 ESS: 0.03623161197894446 loss var: 2.5336456\n",
            "Epoch: 126 loss: -124.500694 -logZ: -125.88865865146131 ESS: 0.02493049280323556 loss var: 2.424756\n",
            "Epoch: 127 loss: -124.57332 -logZ: -125.94194234286756 ESS: 0.04899958749776362 loss var: 2.4058392\n",
            "Epoch: 128 loss: -124.618706 -logZ: -125.89586079989881 ESS: 0.0642634524736593 loss var: 2.2615461\n",
            "Epoch: 129 loss: -124.663925 -logZ: -125.91729939853163 ESS: 0.04689291355662128 loss var: 2.2183897\n",
            "Epoch: 130 loss: -124.711525 -logZ: -125.83815205966444 ESS: 0.10872692543558965 loss var: 2.074211\n",
            "Epoch: 131 loss: -124.779594 -logZ: -125.90117085849256 ESS: 0.08550758560664448 loss var: 2.0387206\n",
            "Epoch: 132 loss: -124.81642 -logZ: -125.94163716708631 ESS: 0.053715430542387185 loss var: 1.9357127\n",
            "Epoch: 133 loss: -124.8451 -logZ: -125.88096822177381 ESS: 0.10752582691833522 loss var: 1.9086887\n",
            "Epoch: 134 loss: -124.88116 -logZ: -125.88643086825819 ESS: 0.09831656177420516 loss var: 1.8461518\n",
            "Epoch: 135 loss: -124.917 -logZ: -125.90272725497694 ESS: 0.12566439958478948 loss var: 1.8068067\n",
            "Epoch: 136 loss: -124.97618 -logZ: -125.96885884677381 ESS: 0.11103390013455394 loss var: 1.7734109\n",
            "Epoch: 137 loss: -124.97726 -logZ: -125.886385091891 ESS: 0.11045597833180477 loss var: 1.6529702\n",
            "Epoch: 138 loss: -124.996025 -logZ: -125.90931905185194 ESS: 0.10109751653694732 loss var: 1.6396892\n",
            "Epoch: 139 loss: -125.08121 -logZ: -125.96095479403944 ESS: 0.12611774218462107 loss var: 1.5880216\n",
            "Epoch: 140 loss: -125.0822 -logZ: -125.90967000400038 ESS: 0.16849208644291755 loss var: 1.5119796\n",
            "Epoch: 141 loss: -125.090225 -logZ: -125.97616780673475 ESS: 0.1086539521212798 loss var: 1.5426079\n",
            "Epoch: 142 loss: -125.126724 -logZ: -125.95842183505506 ESS: 0.08841594778478158 loss var: 1.4967989\n",
            "Epoch: 143 loss: -125.13197 -logZ: -125.9250813809535 ESS: 0.14982338144774396 loss var: 1.4485604\n",
            "Epoch: 144 loss: -125.16965 -logZ: -125.96112264071913 ESS: 0.16069778717070932 loss var: 1.4404678\n",
            "Epoch: 145 loss: -125.16955 -logZ: -125.93675435458631 ESS: 0.1494261235796443 loss var: 1.3837888\n",
            "Epoch: 146 loss: -125.169624 -logZ: -125.89265645419569 ESS: 0.21916573777461085 loss var: 1.3472738\n",
            "Epoch: 147 loss: -125.19808 -logZ: -125.91684163485975 ESS: 0.14309778220953293 loss var: 1.3252553\n",
            "Epoch: 148 loss: -125.233925 -logZ: -125.92820943271131 ESS: 0.2151695102971649 loss var: 1.2784207\n",
            "Epoch: 149 loss: -125.21678 -logZ: -125.90678609286756 ESS: 0.21102063452058106 loss var: 1.2582284\n",
            "Epoch: 150 loss: -125.235085 -logZ: -125.91845906650038 ESS: 0.12398450600491895 loss var: 1.2285316\n",
            "Epoch: 151 loss: -125.254906 -logZ: -125.9114095059535 ESS: 0.2300063795420393 loss var: 1.216629\n",
            "Epoch: 152 loss: -125.283775 -logZ: -125.92029012118788 ESS: 0.25318370867119827 loss var: 1.1789896\n",
            "Epoch: 153 loss: -125.315834 -logZ: -125.9758626309535 ESS: 0.1917206135610884 loss var: 1.1669743\n",
            "Epoch: 154 loss: -125.29722 -logZ: -125.93123067294569 ESS: 0.21201470376780462 loss var: 1.157334\n",
            "Epoch: 155 loss: -125.31566 -logZ: -125.94551289950819 ESS: 0.1583851386143548 loss var: 1.1543808\n",
            "Epoch: 156 loss: -125.341934 -logZ: -125.92762959872694 ESS: 0.2849315258941194 loss var: 1.1027589\n",
            "Epoch: 157 loss: -125.3333 -logZ: -125.91398824130506 ESS: 0.28215392315025845 loss var: 1.0867416\n",
            "Epoch: 158 loss: -125.36412 -logZ: -125.95211995517225 ESS: 0.2454315118917408 loss var: 1.0767337\n",
            "Epoch: 159 loss: -125.35787 -logZ: -125.91595662509413 ESS: 0.2940121113897619 loss var: 1.0442812\n",
            "Epoch: 160 loss: -125.35284 -logZ: -125.89641011630506 ESS: 0.3149864597873525 loss var: 1.0163964\n",
            "Epoch: 161 loss: -125.38212 -logZ: -125.93699849521131 ESS: 0.24137586797273083 loss var: 1.0236386\n",
            "Epoch: 162 loss: -125.3912 -logZ: -125.94684041415663 ESS: 0.253508431983485 loss var: 1.0146106\n",
            "Epoch: 163 loss: -125.40175 -logZ: -125.9407063809535 ESS: 0.1357885625790036 loss var: 0.98205405\n",
            "Epoch: 164 loss: -125.410324 -logZ: -125.92270100985975 ESS: 0.2978320977174139 loss var: 0.94816357\n",
            "Epoch: 165 loss: -125.41479 -logZ: -125.94032491122694 ESS: 0.23055453222385164 loss var: 0.96342885\n",
            "Epoch: 166 loss: -125.444695 -logZ: -125.94409383212538 ESS: 0.3345449841594363 loss var: 0.9369945\n",
            "Epoch: 167 loss: -125.4284 -logZ: -125.91877950107069 ESS: 0.3481797474489498 loss var: 0.9194803\n",
            "Epoch: 168 loss: -125.45891 -logZ: -125.92515767489881 ESS: 0.36820029323831627 loss var: 0.8856518\n",
            "Epoch: 169 loss: -125.44344 -logZ: -125.92317403232069 ESS: 0.2904271862950044 loss var: 0.87791836\n",
            "Epoch: 170 loss: -125.466194 -logZ: -125.9355794278285 ESS: 0.3463675021159245 loss var: 0.86643696\n",
            "Epoch: 171 loss: -125.475494 -logZ: -125.94124043857069 ESS: 0.3375806873752464 loss var: 0.8716184\n",
            "Epoch: 172 loss: -125.466774 -logZ: -125.92657674228163 ESS: 0.3329764095527901 loss var: 0.8529595\n",
            "Epoch: 173 loss: -125.47921 -logZ: -125.93574727450819 ESS: 0.27996672767630454 loss var: 0.8359806\n",
            "Epoch: 174 loss: -125.50615 -logZ: -125.93701375400038 ESS: 0.37966801693292596 loss var: 0.8140357\n",
            "Epoch: 175 loss: -125.49536 -logZ: -125.94175923739881 ESS: 0.3154385772748728 loss var: 0.81529635\n",
            "Epoch: 176 loss: -125.51919 -logZ: -125.95001424228163 ESS: 0.37412417408091225 loss var: 0.80202556\n",
            "Epoch: 177 loss: -125.5169 -logZ: -125.93629659091444 ESS: 0.3783725387288865 loss var: 0.7840958\n",
            "Epoch: 178 loss: -125.51246 -logZ: -125.91356099521131 ESS: 0.4376892331896746 loss var: 0.77311814\n",
            "Epoch: 179 loss: -125.51486 -logZ: -125.91758931552381 ESS: 0.3560452143083715 loss var: 0.75385976\n",
            "Epoch: 180 loss: -125.54394 -logZ: -125.94848836337538 ESS: 0.3815846187929157 loss var: 0.75507057\n",
            "Epoch: 181 loss: -125.53492 -logZ: -125.92372334872694 ESS: 0.4339121755329975 loss var: 0.7339821\n",
            "Epoch: 182 loss: -125.533394 -logZ: -125.90455830966444 ESS: 0.4371152496178562 loss var: 0.7017154\n",
            "Epoch: 183 loss: -125.55412 -logZ: -125.93528951083631 ESS: 0.4158654141963278 loss var: 0.71213555\n",
            "Epoch: 184 loss: -125.567375 -logZ: -125.92671407138319 ESS: 0.43371359175794094 loss var: 0.6737273\n",
            "Epoch: 185 loss: -125.54772 -logZ: -125.89758504306288 ESS: 0.4799746386599496 loss var: 0.6716196\n",
            "Epoch: 186 loss: -125.56188 -logZ: -125.92233479892225 ESS: 0.42121717238942885 loss var: 0.6775123\n",
            "Epoch: 187 loss: -125.565025 -logZ: -125.91179097568006 ESS: 0.46328058041534675 loss var: 0.65799254\n",
            "Epoch: 188 loss: -125.58408 -logZ: -125.93695271884413 ESS: 0.44550538777095733 loss var: 0.6664443\n",
            "Epoch: 189 loss: -125.58307 -logZ: -125.92836202060194 ESS: 0.452424418184794 loss var: 0.65202963\n",
            "Epoch: 190 loss: -125.590935 -logZ: -125.924715170016 ESS: 0.4647958405594927 loss var: 0.62235755\n",
            "Epoch: 191 loss: -125.588135 -logZ: -125.92791951571913 ESS: 0.42668988516950473 loss var: 0.6353148\n",
            "Epoch: 192 loss: -125.61807 -logZ: -125.94343770419569 ESS: 0.48266266001916364 loss var: 0.61849844\n",
            "Epoch: 193 loss: -125.59707 -logZ: -125.92701924716444 ESS: 0.488620468254263 loss var: 0.6300794\n",
            "Epoch: 194 loss: -125.61256 -logZ: -125.92668355380506 ESS: 0.5065521649233529 loss var: 0.60346067\n",
            "Epoch: 195 loss: -125.60666 -logZ: -125.92352498446913 ESS: 0.5056409195642996 loss var: 0.6063422\n",
            "Epoch: 196 loss: -125.60326 -logZ: -125.9189778653285 ESS: 0.4869978136115239 loss var: 0.6037168\n",
            "Epoch: 197 loss: -125.62587 -logZ: -125.948152670016 ESS: 0.46885603813078885 loss var: 0.6037237\n",
            "Epoch: 198 loss: -125.62847 -logZ: -125.92041219150038 ESS: 0.5365299721234316 loss var: 0.5662873\n",
            "Epoch: 199 loss: -125.627884 -logZ: -125.93101704989881 ESS: 0.5080383804795713 loss var: 0.580954\n",
            "Epoch: 200 loss: -125.62451 -logZ: -125.91563619052381 ESS: 0.5048853687387994 loss var: 0.5533871\n",
            "Epoch: 201 loss: -125.648346 -logZ: -125.93025411044569 ESS: 0.5410351467180874 loss var: 0.53928304\n",
            "Epoch: 202 loss: -125.645 -logZ: -125.92918599521131 ESS: 0.5354994266016471 loss var: 0.54501206\n",
            "Epoch: 203 loss: -125.64326 -logZ: -125.92663777743788 ESS: 0.5420928886038343 loss var: 0.5458094\n",
            "Epoch: 204 loss: -125.64253 -logZ: -125.92711079989881 ESS: 0.5324846480219204 loss var: 0.5436739\n",
            "Epoch: 205 loss: -125.6539 -logZ: -125.93356526767225 ESS: 0.5229190258335228 loss var: 0.5343068\n",
            "Epoch: 206 loss: -125.63771 -logZ: -125.9048177090785 ESS: 0.558482075612262 loss var: 0.51141775\n",
            "Epoch: 207 loss: -125.65537 -logZ: -125.92488301669569 ESS: 0.5511675963145994 loss var: 0.5175867\n",
            "Epoch: 208 loss: -125.65763 -logZ: -125.92059529696913 ESS: 0.5531897327186878 loss var: 0.5076765\n",
            "Epoch: 209 loss: -125.67056 -logZ: -125.93515218173475 ESS: 0.5638594643278463 loss var: 0.50857246\n",
            "Epoch: 210 loss: -125.67533 -logZ: -125.9407063809535 ESS: 0.5476967685696215 loss var: 0.50885564\n",
            "Epoch: 211 loss: -125.67347 -logZ: -125.93492329989881 ESS: 0.5655310769148637 loss var: 0.50387233\n",
            "Epoch: 212 loss: -125.657 -logZ: -125.91809285556288 ESS: 0.5666712949825339 loss var: 0.5054685\n",
            "Epoch: 213 loss: -125.68235 -logZ: -125.93126119052381 ESS: 0.5850698917988618 loss var: 0.48539272\n",
            "Epoch: 214 loss: -125.67016 -logZ: -125.92700398837538 ESS: 0.5659108944569042 loss var: 0.4984486\n",
            "Epoch: 215 loss: -125.67515 -logZ: -125.93937886630506 ESS: 0.5663600986237071 loss var: 0.5118595\n",
            "Epoch: 216 loss: -125.65962 -logZ: -125.92241109286756 ESS: 0.5669999655353042 loss var: 0.5047766\n",
            "Epoch: 217 loss: -125.67353 -logZ: -125.92466939364881 ESS: 0.5807294723271126 loss var: 0.48716956\n",
            "Epoch: 218 loss: -125.674446 -logZ: -125.92224324618788 ESS: 0.5890651172702323 loss var: 0.48173034\n",
            "Epoch: 219 loss: -125.67928 -logZ: -125.92694295321913 ESS: 0.593957041980748 loss var: 0.48515326\n",
            "Epoch: 220 loss: -125.681145 -logZ: -125.93318379794569 ESS: 0.5802157484317799 loss var: 0.48940104\n",
            "Epoch: 221 loss: -125.67181 -logZ: -125.92051900302381 ESS: 0.5754018783861565 loss var: 0.48079598\n",
            "Epoch: 222 loss: -125.68817 -logZ: -125.93086446200819 ESS: 0.6050252130439704 loss var: 0.4785642\n",
            "Epoch: 223 loss: -125.696785 -logZ: -125.93467915927381 ESS: 0.6093798267094453 loss var: 0.47021446\n",
            "Epoch: 224 loss: -125.68177 -logZ: -125.91583455478163 ESS: 0.614290464511156 loss var: 0.46180373\n",
            "Epoch: 225 loss: -125.6838 -logZ: -125.9292317715785 ESS: 0.5931057245298663 loss var: 0.4791942\n",
            "Epoch: 226 loss: -125.6795 -logZ: -125.92750752841444 ESS: 0.5918400663600255 loss var: 0.48759964\n",
            "Epoch: 227 loss: -125.690926 -logZ: -125.93383992587538 ESS: 0.5971922723362946 loss var: 0.4766421\n",
            "Epoch: 228 loss: -125.693726 -logZ: -125.92724812900038 ESS: 0.6238308528511232 loss var: 0.46181723\n",
            "Epoch: 229 loss: -125.68837 -logZ: -125.923250326266 ESS: 0.5992735248281119 loss var: 0.45870587\n",
            "Epoch: 230 loss: -125.69244 -logZ: -125.93133748446913 ESS: 0.5958633382610801 loss var: 0.4672249\n",
            "Epoch: 231 loss: -125.68435 -logZ: -125.92918599521131 ESS: 0.6000055065679032 loss var: 0.48707625\n",
            "Epoch: 232 loss: -125.695335 -logZ: -125.925691732516 ESS: 0.617316103221205 loss var: 0.45451492\n",
            "Epoch: 233 loss: -125.70616 -logZ: -125.93696797763319 ESS: 0.6112423468911379 loss var: 0.45340285\n",
            "Epoch: 234 loss: -125.702675 -logZ: -125.93229878818006 ESS: 0.6042317858666729 loss var: 0.4490846\n",
            "Epoch: 235 loss: -125.694725 -logZ: -125.9253255215785 ESS: 0.6232599800121851 loss var: 0.4596091\n",
            "Epoch: 236 loss: -125.69361 -logZ: -125.92634786044569 ESS: 0.615641707809169 loss var: 0.46134916\n",
            "Epoch: 237 loss: -125.709274 -logZ: -125.94130147372694 ESS: 0.6192406742884435 loss var: 0.46077362\n",
            "Epoch: 238 loss: -125.693344 -logZ: -125.92932332431288 ESS: 0.5986703121926059 loss var: 0.4610339\n",
            "Epoch: 239 loss: -125.69095 -logZ: -125.92885030185194 ESS: 0.5990723864476761 loss var: 0.46713024\n",
            "Epoch: 240 loss: -125.68567 -logZ: -125.91649068271131 ESS: 0.6214366951710119 loss var: 0.45891255\n",
            "Epoch: 241 loss: -125.69722 -logZ: -125.93182576571913 ESS: 0.6209627574145418 loss var: 0.46912795\n",
            "Epoch: 242 loss: -125.69502 -logZ: -125.92465413485975 ESS: 0.6222527144113956 loss var: 0.45536086\n",
            "Epoch: 243 loss: -125.69451 -logZ: -125.92328084384413 ESS: 0.6123065294528705 loss var: 0.45362407\n",
            "Epoch: 244 loss: -125.68977 -logZ: -125.91993916903944 ESS: 0.6166570905003468 loss var: 0.45305642\n",
            "Epoch: 245 loss: -125.7055 -logZ: -125.93316853915663 ESS: 0.6200159659696849 loss var: 0.45156717\n",
            "Epoch: 246 loss: -125.70775 -logZ: -125.93133748446913 ESS: 0.6277841524805946 loss var: 0.44510436\n",
            "Epoch: 247 loss: -125.68556 -logZ: -125.91209615146131 ESS: 0.6266356971286093 loss var: 0.449698\n",
            "Epoch: 248 loss: -125.70472 -logZ: -125.92981160556288 ESS: 0.6349904601317863 loss var: 0.44878164\n",
            "Epoch: 249 loss: -125.693245 -logZ: -125.91876424228163 ESS: 0.6307799965422437 loss var: 0.44750592\n",
            "Epoch: 250 loss: -125.692375 -logZ: -125.9180013028285 ESS: 0.6166947294108549 loss var: 0.4454501\n",
            "Epoch: 251 loss: -125.69397 -logZ: -125.91411031161756 ESS: 0.6397364306548364 loss var: 0.43881655\n",
            "Epoch: 252 loss: -125.709984 -logZ: -125.93467915927381 ESS: 0.6226706268943047 loss var: 0.44603196\n",
            "Epoch: 253 loss: -125.70358 -logZ: -125.92686665927381 ESS: 0.6286468750659496 loss var: 0.44442916\n",
            "Epoch: 254 loss: -125.69827 -logZ: -125.92001546298475 ESS: 0.6436333698236892 loss var: 0.44656605\n",
            "Epoch: 255 loss: -125.70895 -logZ: -125.92949117099256 ESS: 0.6489982652386972 loss var: 0.4442935\n",
            "Epoch: 256 loss: -125.69172 -logZ: -125.91795552646131 ESS: 0.6289155193721985 loss var: 0.45049432\n",
            "Epoch: 257 loss: -125.708694 -logZ: -125.92480672275038 ESS: 0.649176542417583 loss var: 0.43270925\n",
            "Epoch: 258 loss: -125.690926 -logZ: -125.91533101474256 ESS: 0.6364455024835787 loss var: 0.45141956\n",
            "Epoch: 259 loss: -125.6823 -logZ: -125.9055501309535 ESS: 0.6362318878113103 loss var: 0.4426221\n",
            "Epoch: 260 loss: -125.70157 -logZ: -125.922762045016 ESS: 0.6399316925129352 loss var: 0.44409606\n",
            "Epoch: 261 loss: -125.70147 -logZ: -125.92729390536756 ESS: 0.6237356710791574 loss var: 0.44898772\n",
            "Epoch: 262 loss: -125.69421 -logZ: -125.91964925204725 ESS: 0.6358824911705955 loss var: 0.45178434\n",
            "Epoch: 263 loss: -125.696144 -logZ: -125.91426289950819 ESS: 0.6491567314240261 loss var: 0.4392608\n",
            "Epoch: 264 loss: -125.71301 -logZ: -125.93297017489881 ESS: 0.6293379066758673 loss var: 0.43677342\n",
            "Epoch: 265 loss: -125.70282 -logZ: -125.91772664462538 ESS: 0.6572900228895574 loss var: 0.4328525\n",
            "Epoch: 266 loss: -125.69796 -logZ: -125.91874898349256 ESS: 0.6318589113620892 loss var: 0.4377152\n",
            "Epoch: 267 loss: -125.71024 -logZ: -125.92378438388319 ESS: 0.653888840229943 loss var: 0.42573988\n",
            "Epoch: 268 loss: -125.713394 -logZ: -125.93612874423475 ESS: 0.6354944977167933 loss var: 0.44425\n",
            "Epoch: 269 loss: -125.69601 -logZ: -125.91301167880506 ESS: 0.6477319275623478 loss var: 0.4347906\n",
            "Epoch: 270 loss: -125.694374 -logZ: -125.91819966708631 ESS: 0.6307992467138007 loss var: 0.44324052\n",
            "Epoch: 271 loss: -125.70482 -logZ: -125.92399800693006 ESS: 0.6136908643005992 loss var: 0.43409264\n",
            "Epoch: 272 loss: -125.70516 -logZ: -125.9223958340785 ESS: 0.6379817528559857 loss var: 0.43204805\n",
            "Epoch: 273 loss: -125.71118 -logZ: -125.92999471103163 ESS: 0.6448129773559084 loss var: 0.43616882\n",
            "Epoch: 274 loss: -125.70667 -logZ: -125.9233723965785 ESS: 0.6476330990540391 loss var: 0.4332607\n",
            "Epoch: 275 loss: -125.71735 -logZ: -125.94000447665663 ESS: 0.6287044320410273 loss var: 0.4429313\n",
            "Epoch: 276 loss: -125.718185 -logZ: -125.93942464267225 ESS: 0.6372423346752075 loss var: 0.44094718\n",
            "Epoch: 277 loss: -125.708694 -logZ: -125.92170918857069 ESS: 0.6465075192712627 loss var: 0.4214677\n",
            "Epoch: 278 loss: -125.70401 -logZ: -125.92004598056288 ESS: 0.6495927129716248 loss var: 0.43402806\n",
            "Epoch: 279 loss: -125.70975 -logZ: -125.92509663974256 ESS: 0.6503067690117323 loss var: 0.42905903\n",
            "Epoch: 280 loss: -125.69833 -logZ: -125.91481221591444 ESS: 0.6432013879571159 loss var: 0.43068385\n",
            "Epoch: 281 loss: -125.71825 -logZ: -125.931551107516 ESS: 0.6439477206696148 loss var: 0.42250177\n",
            "Epoch: 282 loss: -125.7121 -logZ: -125.92610371982069 ESS: 0.6388779860460454 loss var: 0.42652014\n",
            "Epoch: 283 loss: -125.70851 -logZ: -125.92871297275038 ESS: 0.6274202474065944 loss var: 0.43620464\n",
            "Epoch: 284 loss: -125.7138 -logZ: -125.92926228915663 ESS: 0.6471984327236395 loss var: 0.43174866\n",
            "Epoch: 285 loss: -125.713326 -logZ: -125.91920674716444 ESS: 0.6560675682093683 loss var: 0.4119608\n",
            "Epoch: 286 loss: -125.714 -logZ: -125.92732442294569 ESS: 0.6519361614765573 loss var: 0.4280314\n",
            "Epoch: 287 loss: -125.712585 -logZ: -125.93469441806288 ESS: 0.6421814920871297 loss var: 0.44739664\n",
            "Epoch: 288 loss: -125.71215 -logZ: -125.93071187411756 ESS: 0.6410262608101637 loss var: 0.43530726\n",
            "Epoch: 289 loss: -125.69082 -logZ: -125.91107381259413 ESS: 0.6050067494214977 loss var: 0.43634343\n",
            "Epoch: 290 loss: -125.71436 -logZ: -125.92674458896131 ESS: 0.6514986070968047 loss var: 0.42710578\n",
            "Epoch: 291 loss: -125.70281 -logZ: -125.91380513583631 ESS: 0.6489586547370012 loss var: 0.42030066\n",
            "Epoch: 292 loss: -125.71525 -logZ: -125.92973531161756 ESS: 0.6383128229136857 loss var: 0.42330068\n",
            "Epoch: 293 loss: -125.6999 -logZ: -125.90724385653944 ESS: 0.6663584565529762 loss var: 0.41829133\n",
            "Epoch: 294 loss: -125.708824 -logZ: -125.91649068271131 ESS: 0.6512799400453523 loss var: 0.41287363\n",
            "Epoch: 295 loss: -125.715836 -logZ: -125.93017781650038 ESS: 0.6356496666814033 loss var: 0.42777398\n",
            "Epoch: 296 loss: -125.706406 -logZ: -125.91722310458631 ESS: 0.6507038059180255 loss var: 0.4238246\n",
            "Epoch: 297 loss: -125.717606 -logZ: -125.9287434903285 ESS: 0.6641252858646797 loss var: 0.4288275\n",
            "Epoch: 298 loss: -125.711174 -logZ: -125.91986287509413 ESS: 0.6622026621646127 loss var: 0.4202196\n",
            "Epoch: 299 loss: -125.7147 -logZ: -125.92102254306288 ESS: 0.6621016257658882 loss var: 0.41494828\n",
            "Epoch: 300 loss: -125.72757 -logZ: -125.93641866122694 ESS: 0.6541882353073116 loss var: 0.41743422\n",
            "Epoch: 301 loss: -125.73005 -logZ: -125.93126119052381 ESS: 0.6618188058537677 loss var: 0.40069604\n",
            "Epoch: 302 loss: -125.71809 -logZ: -125.92079366122694 ESS: 0.6631733964089325 loss var: 0.4042606\n",
            "Epoch: 303 loss: -125.72285 -logZ: -125.93396199618788 ESS: 0.6463102509362753 loss var: 0.41796935\n",
            "Epoch: 304 loss: -125.72377 -logZ: -125.93480122958631 ESS: 0.6427304656684905 loss var: 0.41583982\n",
            "Epoch: 305 loss: -125.71948 -logZ: -125.92685140048475 ESS: 0.657972379421334 loss var: 0.4164055\n",
            "Epoch: 306 loss: -125.7093 -logZ: -125.92212117587538 ESS: 0.6496323621743453 loss var: 0.4224652\n",
            "Epoch: 307 loss: -125.71049 -logZ: -125.91670430575819 ESS: 0.6566885312838477 loss var: 0.41208798\n",
            "Epoch: 308 loss: -125.7285 -logZ: -125.9411946622035 ESS: 0.6405960287344975 loss var: 0.42118034\n",
            "Epoch: 309 loss: -125.7136 -logZ: -125.91887105380506 ESS: 0.6640442208314127 loss var: 0.41091645\n",
            "Epoch: 310 loss: -125.70679 -logZ: -125.91670430575819 ESS: 0.6503861570076066 loss var: 0.41943038\n",
            "Epoch: 311 loss: -125.716484 -logZ: -125.92643941318006 ESS: 0.6486616530237975 loss var: 0.4163467\n",
            "Epoch: 312 loss: -125.71412 -logZ: -125.91931355868788 ESS: 0.6676000863078505 loss var: 0.41623318\n",
            "Epoch: 313 loss: -125.72702 -logZ: -125.93055928622694 ESS: 0.6553671865557286 loss var: 0.40286022\n",
            "Epoch: 314 loss: -125.71302 -logZ: -125.91353047763319 ESS: 0.6679669107301859 loss var: 0.4004865\n",
            "Epoch: 315 loss: -125.72475 -logZ: -125.925935873141 ESS: 0.6668670416945691 loss var: 0.40440384\n",
            "Epoch: 316 loss: -125.72527 -logZ: -125.92407430087538 ESS: 0.6738018976039675 loss var: 0.3999428\n",
            "Epoch: 317 loss: -125.71832 -logZ: -125.91496480380506 ESS: 0.6797293417934991 loss var: 0.3986548\n",
            "Epoch: 318 loss: -125.72016 -logZ: -125.92355550204725 ESS: 0.6656064622786756 loss var: 0.40713608\n",
            "Epoch: 319 loss: -125.71817 -logZ: -125.92297566806288 ESS: 0.6537691205683391 loss var: 0.4066383\n",
            "Epoch: 320 loss: -125.72212 -logZ: -125.92567647372694 ESS: 0.653888840229943 loss var: 0.40550822\n",
            "Epoch: 321 loss: -125.7234 -logZ: -125.92627156650038 ESS: 0.6540285408774181 loss var: 0.40357453\n",
            "Epoch: 322 loss: -125.72207 -logZ: -125.92830098544569 ESS: 0.6607088966960034 loss var: 0.4128274\n",
            "Epoch: 323 loss: -125.72911 -logZ: -125.93658650790663 ESS: 0.6505449620750653 loss var: 0.41188937\n",
            "Epoch: 324 loss: -125.72197 -logZ: -125.92250264560194 ESS: 0.667661209719186 loss var: 0.4037407\n",
            "Epoch: 325 loss: -125.733696 -logZ: -125.9404622403285 ESS: 0.6518366915020053 loss var: 0.41054085\n",
            "Epoch: 326 loss: -125.730095 -logZ: -125.93506062900038 ESS: 0.6617784128722517 loss var: 0.4093435\n",
            "Epoch: 327 loss: -125.7277 -logZ: -125.92651570712538 ESS: 0.6602453049999639 loss var: 0.39322847\n",
            "Epoch: 328 loss: -125.72882 -logZ: -125.93124593173475 ESS: 0.6481273924304399 loss var: 0.40281752\n",
            "Epoch: 329 loss: -125.73152 -logZ: -125.93669331943006 ESS: 0.6519361614765573 loss var: 0.40555063\n",
            "Epoch: 330 loss: -125.72518 -logZ: -125.92535603915663 ESS: 0.6599229982916966 loss var: 0.39734745\n",
            "Epoch: 331 loss: -125.72065 -logZ: -125.91725362216444 ESS: 0.6623037139814444 loss var: 0.39072722\n",
            "Epoch: 332 loss: -125.71817 -logZ: -125.9170247403285 ESS: 0.6740898383390772 loss var: 0.3985785\n",
            "Epoch: 333 loss: -125.72382 -logZ: -125.92111409579725 ESS: 0.6707449954147261 loss var: 0.39491314\n",
            "Epoch: 334 loss: -125.72627 -logZ: -125.92880452548475 ESS: 0.6574103873066585 loss var: 0.40305617\n",
            "Epoch: 335 loss: -125.72121 -logZ: -125.923738607516 ESS: 0.6639834285501419 loss var: 0.40359113\n",
            "Epoch: 336 loss: -125.731674 -logZ: -125.93162740146131 ESS: 0.6662567860787294 loss var: 0.39854592\n",
            "Epoch: 337 loss: -125.72262 -logZ: -125.92466939364881 ESS: 0.6593794624575772 loss var: 0.40286264\n",
            "Epoch: 338 loss: -125.722084 -logZ: -125.91964925204725 ESS: 0.6667245987403525 loss var: 0.39484715\n",
            "Epoch: 339 loss: -125.72026 -logZ: -125.92433370028944 ESS: 0.6587358515155758 loss var: 0.40740308\n",
            "Epoch: 340 loss: -125.720245 -logZ: -125.91707051669569 ESS: 0.6674371178999432 loss var: 0.39538735\n",
            "Epoch: 341 loss: -125.715836 -logZ: -125.91026509677381 ESS: 0.6722614510238503 loss var: 0.388962\n",
            "Epoch: 342 loss: -125.73196 -logZ: -125.92900288974256 ESS: 0.6697223002276856 loss var: 0.39413133\n",
            "Epoch: 343 loss: -125.73597 -logZ: -125.93956197177381 ESS: 0.6515980254798346 loss var: 0.40291518\n",
            "Epoch: 344 loss: -125.73575 -logZ: -125.92915547763319 ESS: 0.6711135478618028 loss var: 0.38451886\n",
            "Epoch: 345 loss: -125.720634 -logZ: -125.914217123141 ESS: 0.6775547399465806 loss var: 0.38667372\n",
            "Epoch: 346 loss: -125.728134 -logZ: -125.91838277255506 ESS: 0.6815988403801487 loss var: 0.38183007\n",
            "Epoch: 347 loss: -125.73787 -logZ: -125.93321431552381 ESS: 0.6695383807627634 loss var: 0.38975903\n",
            "Epoch: 348 loss: -125.72257 -logZ: -125.917635091891 ESS: 0.6752840470933794 loss var: 0.39100027\n",
            "Epoch: 349 loss: -125.73331 -logZ: -125.93242085849256 ESS: 0.6651191360315483 loss var: 0.39567164\n",
            "Epoch: 350 loss: -125.73731 -logZ: -125.92909444247694 ESS: 0.6700698415164245 loss var: 0.38062313\n",
            "Epoch: 351 loss: -125.73785 -logZ: -125.92552388583631 ESS: 0.6854578616525516 loss var: 0.37661213\n",
            "Epoch: 352 loss: -125.72681 -logZ: -125.91772664462538 ESS: 0.6734524206310627 loss var: 0.3784555\n",
            "Epoch: 353 loss: -125.7373 -logZ: -125.93351949130506 ESS: 0.6684359241570119 loss var: 0.39046878\n",
            "Epoch: 354 loss: -125.73469 -logZ: -125.92450154696913 ESS: 0.6815156424748042 loss var: 0.3798191\n",
            "Epoch: 355 loss: -125.73693 -logZ: -125.92854512607069 ESS: 0.674439646089338 loss var: 0.38057274\n",
            "Epoch: 356 loss: -125.726944 -logZ: -125.91841329013319 ESS: 0.6796463720845031 loss var: 0.38298908\n",
            "Epoch: 357 loss: -125.73282 -logZ: -125.921053060641 ESS: 0.6828271898985534 loss var: 0.37580413\n",
            "Epoch: 358 loss: -125.7342 -logZ: -125.92651570712538 ESS: 0.6774513611854033 loss var: 0.38460246\n",
            "Epoch: 359 loss: -125.72755 -logZ: -125.91700948153944 ESS: 0.6755107735168288 loss var: 0.37420198\n",
            "Epoch: 360 loss: -125.739975 -logZ: -125.92991841708631 ESS: 0.685729856282974 loss var: 0.3818516\n",
            "Epoch: 361 loss: -125.736786 -logZ: -125.92534078036756 ESS: 0.6800820760706169 loss var: 0.37525082\n",
            "Epoch: 362 loss: -125.73887 -logZ: -125.92619527255506 ESS: 0.6818068795814091 loss var: 0.37301835\n",
            "Epoch: 363 loss: -125.74447 -logZ: -125.92372334872694 ESS: 0.6926494574900247 loss var: 0.35842863\n",
            "Epoch: 364 loss: -125.733696 -logZ: -125.92248738681288 ESS: 0.6832023811165095 loss var: 0.37777087\n",
            "Epoch: 365 loss: -125.74205 -logZ: -125.93046773349256 ESS: 0.6831815317526063 loss var: 0.3752619\n",
            "Epoch: 366 loss: -125.74625 -logZ: -125.93370259677381 ESS: 0.676707499581335 loss var: 0.37215477\n",
            "Epoch: 367 loss: -125.74082 -logZ: -125.9287434903285 ESS: 0.6782581340136413 loss var: 0.37399945\n",
            "Epoch: 368 loss: -125.73707 -logZ: -125.92151082431288 ESS: 0.6811413775556182 loss var: 0.36578313\n",
            "Epoch: 369 loss: -125.740425 -logZ: -125.92292989169569 ESS: 0.688560803803283 loss var: 0.3641203\n",
            "Epoch: 370 loss: -125.741325 -logZ: -125.93149007235975 ESS: 0.6793767904670495 loss var: 0.37894145\n",
            "Epoch: 371 loss: -125.72702 -logZ: -125.91504109775038 ESS: 0.6860438303573804 loss var: 0.37508962\n",
            "Epoch: 372 loss: -125.7486 -logZ: -125.93013204013319 ESS: 0.692163454443351 loss var: 0.36304206\n",
            "Epoch: 373 loss: -125.7361 -logZ: -125.92097676669569 ESS: 0.6873431157158618 loss var: 0.36809292\n",
            "Epoch: 374 loss: -125.755745 -logZ: -125.93661702548475 ESS: 0.698060671068984 loss var: 0.36302307\n",
            "Epoch: 375 loss: -125.747925 -logZ: -125.93116963778944 ESS: 0.6874899637309914 loss var: 0.36525849\n",
            "Epoch: 376 loss: -125.7419 -logZ: -125.93499959384413 ESS: 0.6749543990417904 loss var: 0.3846103\n",
            "Epoch: 377 loss: -125.74049 -logZ: -125.92549336825819 ESS: 0.6872592166478285 loss var: 0.37007123\n",
            "Epoch: 378 loss: -125.75456 -logZ: -125.93780721103163 ESS: 0.6897175007172197 loss var: 0.36646798\n",
            "Epoch: 379 loss: -125.751175 -logZ: -125.93159688388319 ESS: 0.6947240806803101 loss var: 0.3593437\n",
            "Epoch: 380 loss: -125.74182 -logZ: -125.92485249911756 ESS: 0.6890653055297533 loss var: 0.36470133\n",
            "Epoch: 381 loss: -125.73984 -logZ: -125.92140401278944 ESS: 0.6907285694354641 loss var: 0.36259234\n",
            "Epoch: 382 loss: -125.73209 -logZ: -125.918855795016 ESS: 0.687406046738269 loss var: 0.3744395\n",
            "Epoch: 383 loss: -125.73042 -logZ: -125.909334310641 ESS: 0.6967836533065384 loss var: 0.3595735\n",
            "Epoch: 384 loss: -125.74433 -logZ: -125.93058980380506 ESS: 0.692776297005768 loss var: 0.37447715\n",
            "Epoch: 385 loss: -125.74215 -logZ: -125.92860616122694 ESS: 0.6838698968241733 loss var: 0.37056017\n",
            "Epoch: 386 loss: -125.74119 -logZ: -125.91533101474256 ESS: 0.7070224137024236 loss var: 0.3497262\n",
            "Epoch: 387 loss: -125.74352 -logZ: -125.92582906161756 ESS: 0.6866722098484949 loss var: 0.3642591\n",
            "Epoch: 388 loss: -125.737274 -logZ: -125.92169392978163 ESS: 0.6830772944766375 loss var: 0.36680764\n",
            "Epoch: 389 loss: -125.7485 -logZ: -125.92555440341444 ESS: 0.7054490742252837 loss var: 0.35700145\n",
            "Epoch: 390 loss: -125.74813 -logZ: -125.92138875400038 ESS: 0.710396390078179 loss var: 0.3500798\n",
            "Epoch: 391 loss: -125.74358 -logZ: -125.92120564853163 ESS: 0.6967623894814242 loss var: 0.35409695\n",
            "Epoch: 392 loss: -125.73641 -logZ: -125.92074788485975 ESS: 0.6870704811863607 loss var: 0.36900303\n",
            "Epoch: 393 loss: -125.7466 -logZ: -125.93075765048475 ESS: 0.6915089463680034 loss var: 0.36830756\n",
            "Epoch: 394 loss: -125.7382 -logZ: -125.92016805087538 ESS: 0.6928185820057247 loss var: 0.3638835\n",
            "Epoch: 395 loss: -125.755196 -logZ: -125.93254292880506 ESS: 0.6971877893030521 loss var: 0.35448605\n",
            "Epoch: 396 loss: -125.742 -logZ: -125.92262471591444 ESS: 0.6889811962463022 loss var: 0.3614933\n",
            "Epoch: 397 loss: -125.74202 -logZ: -125.91668904696913 ESS: 0.7059013196668322 loss var: 0.3517156\n",
            "Epoch: 398 loss: -125.74519 -logZ: -125.922517904391 ESS: 0.6973580219451813 loss var: 0.3532464\n",
            "Epoch: 399 loss: -125.74951 -logZ: -125.92662251864881 ESS: 0.6830772944766375 loss var: 0.34938344\n",
            "Epoch: 400 loss: -125.7483 -logZ: -125.91874898349256 ESS: 0.7109168905238813 loss var: 0.3434169\n",
            "Epoch: 401 loss: -125.75052 -logZ: -125.92903340732069 ESS: 0.6915089463680034 loss var: 0.35631934\n",
            "Epoch: 402 loss: -125.74672 -logZ: -125.91876424228163 ESS: 0.710071270837736 loss var: 0.34738064\n",
            "Epoch: 403 loss: -125.75047 -logZ: -125.926180013766 ESS: 0.690286044626158 loss var: 0.35039744\n",
            "Epoch: 404 loss: -125.745026 -logZ: -125.91699422275038 ESS: 0.7055782576354325 loss var: 0.34357902\n",
            "Epoch: 405 loss: -125.75273 -logZ: -125.92688191806288 ESS: 0.6977837854229819 loss var: 0.346039\n",
            "Epoch: 406 loss: -125.75772 -logZ: -125.93307698642225 ESS: 0.7030205325407236 loss var: 0.35040233\n",
            "Epoch: 407 loss: -125.752045 -logZ: -125.92961324130506 ESS: 0.6914667412994231 loss var: 0.35339049\n",
            "Epoch: 408 loss: -125.75302 -logZ: -125.92733968173475 ESS: 0.7031921893662757 loss var: 0.3480933\n",
            "Epoch: 409 loss: -125.75059 -logZ: -125.92578328525038 ESS: 0.6992973462375025 loss var: 0.3504579\n",
            "Epoch: 410 loss: -125.74722 -logZ: -125.91247762118788 ESS: 0.7175648977247834 loss var: 0.3314744\n",
            "Epoch: 411 loss: -125.74716 -logZ: -125.91325581943006 ESS: 0.7197580768309958 loss var: 0.33552465\n",
            "Epoch: 412 loss: -125.75353 -logZ: -125.9221516934535 ESS: 0.7125241688690436 loss var: 0.3381157\n",
            "Epoch: 413 loss: -125.752594 -logZ: -125.92268575107069 ESS: 0.7052122993997807 loss var: 0.3380444\n",
            "Epoch: 414 loss: -125.7603 -logZ: -125.92941487704725 ESS: 0.7050186336539663 loss var: 0.33583334\n",
            "Epoch: 415 loss: -125.7538 -logZ: -125.92379964267225 ESS: 0.7136122243778784 loss var: 0.3426187\n",
            "Epoch: 416 loss: -125.75741 -logZ: -125.92997945224256 ESS: 0.7054706031510232 loss var: 0.3448198\n",
            "Epoch: 417 loss: -125.7519 -logZ: -125.92015279208631 ESS: 0.7048680415108904 loss var: 0.33514625\n",
            "Epoch: 418 loss: -125.761925 -logZ: -125.93443501864881 ESS: 0.7031707299711458 loss var: 0.34206584\n",
            "Epoch: 419 loss: -125.76032 -logZ: -125.92939961825819 ESS: 0.7139389649092717 loss var: 0.3392788\n",
            "Epoch: 420 loss: -125.75007 -logZ: -125.91874898349256 ESS: 0.7093781803404848 loss var: 0.33662987\n",
            "Epoch: 421 loss: -125.76457 -logZ: -125.93087972079725 ESS: 0.7143530510228946 loss var: 0.3326223\n",
            "Epoch: 422 loss: -125.7578 -logZ: -125.92018330966444 ESS: 0.7203733673275609 loss var: 0.3251856\n",
            "Epoch: 423 loss: -125.752075 -logZ: -125.92091573153944 ESS: 0.7083181963696268 loss var: 0.33728108\n",
            "Epoch: 424 loss: -125.75241 -logZ: -125.91703999911756 ESS: 0.717061412559655 loss var: 0.32931432\n",
            "Epoch: 425 loss: -125.74991 -logZ: -125.91496480380506 ESS: 0.7195823760929861 loss var: 0.33207187\n",
            "Epoch: 426 loss: -125.75778 -logZ: -125.917390951266 ESS: 0.7282868070225017 loss var: 0.32044703\n",
            "Epoch: 427 loss: -125.76121 -logZ: -125.92589009677381 ESS: 0.7152474237618363 loss var: 0.3286736\n",
            "Epoch: 428 loss: -125.764824 -logZ: -125.92645467196913 ESS: 0.721803748824933 loss var: 0.32452983\n",
            "Epoch: 429 loss: -125.758545 -logZ: -125.92369283114881 ESS: 0.7130027087574978 loss var: 0.32929713\n",
            "Epoch: 430 loss: -125.758095 -logZ: -125.91832173739881 ESS: 0.719253052804159 loss var: 0.31878367\n",
            "Epoch: 431 loss: -125.7709 -logZ: -125.93550313388319 ESS: 0.7174992057034931 loss var: 0.32884005\n",
            "Epoch: 432 loss: -125.75228 -logZ: -125.91481221591444 ESS: 0.7185948583107437 loss var: 0.3249268\n",
            "Epoch: 433 loss: -125.758194 -logZ: -125.91978658114881 ESS: 0.7246730380041617 loss var: 0.32320708\n",
            "Epoch: 434 loss: -125.75772 -logZ: -125.91923726474256 ESS: 0.7259125517562323 loss var: 0.32430702\n",
            "Epoch: 435 loss: -125.76062 -logZ: -125.92637837802381 ESS: 0.711828684132811 loss var: 0.33103627\n",
            "Epoch: 436 loss: -125.774345 -logZ: -125.94149983798475 ESS: 0.7075188499775839 loss var: 0.3304312\n",
            "Epoch: 437 loss: -125.75772 -logZ: -125.91647542392225 ESS: 0.729911080731312 loss var: 0.31910688\n",
            "Epoch: 438 loss: -125.76293 -logZ: -125.92831624423475 ESS: 0.7067635417652286 loss var: 0.3282212\n",
            "Epoch: 439 loss: -125.76575 -logZ: -125.92799580966444 ESS: 0.719253052804159 loss var: 0.32427496\n",
            "Epoch: 440 loss: -125.75482 -logZ: -125.91118062411756 ESS: 0.7275981407930072 loss var: 0.3133056\n",
            "Epoch: 441 loss: -125.772575 -logZ: -125.93205464755506 ESS: 0.7222885209920258 loss var: 0.31920093\n",
            "Epoch: 442 loss: -125.777725 -logZ: -125.93026936923475 ESS: 0.7338644443479592 loss var: 0.30563483\n",
            "Epoch: 443 loss: -125.76437 -logZ: -125.92067159091444 ESS: 0.727886856990563 loss var: 0.3117183\n",
            "Epoch: 444 loss: -125.76604 -logZ: -125.92535603915663 ESS: 0.7286202665824758 loss var: 0.32007518\n",
            "Epoch: 445 loss: -125.762856 -logZ: -125.923738607516 ESS: 0.7152910803323822 loss var: 0.31811202\n",
            "Epoch: 446 loss: -125.76072 -logZ: -125.91691792880506 ESS: 0.7345814588921674 loss var: 0.31466573\n",
            "Epoch: 447 loss: -125.76257 -logZ: -125.91624654208631 ESS: 0.7354113802982836 loss var: 0.308588\n",
            "Epoch: 448 loss: -125.767334 -logZ: -125.92163289462538 ESS: 0.7331033832263969 loss var: 0.30894777\n",
            "Epoch: 449 loss: -125.772606 -logZ: -125.92427266513319 ESS: 0.7393945347822881 loss var: 0.3053179\n",
            "Epoch: 450 loss: -125.77375 -logZ: -125.92930806552381 ESS: 0.7355460504728436 loss var: 0.31199437\n",
            "Epoch: 451 loss: -125.77505 -logZ: -125.93121541415663 ESS: 0.7308695395578898 loss var: 0.31212413\n",
            "Epoch: 452 loss: -125.77489 -logZ: -125.93341267978163 ESS: 0.7203074181949689 loss var: 0.31538206\n",
            "Epoch: 453 loss: -125.7734 -logZ: -125.93025411044569 ESS: 0.7225751302940941 loss var: 0.31257337\n",
            "Epoch: 454 loss: -125.7671 -logZ: -125.92418111239881 ESS: 0.7312488121931172 loss var: 0.31607386\n",
            "Epoch: 455 loss: -125.76395 -logZ: -125.91493428622694 ESS: 0.7360849778272796 loss var: 0.30186936\n",
            "Epoch: 456 loss: -125.77336 -logZ: -125.92503560458631 ESS: 0.7356582944564614 loss var: 0.30407497\n",
            "Epoch: 457 loss: -125.77506 -logZ: -125.92575276767225 ESS: 0.7398459631428849 loss var: 0.3019548\n",
            "Epoch: 458 loss: -125.77977 -logZ: -125.9326497403285 ESS: 0.7367816767849148 loss var: 0.3067418\n",
            "Epoch: 459 loss: -125.770294 -logZ: -125.92796529208631 ESS: 0.7249384697958365 loss var: 0.31434214\n",
            "Epoch: 460 loss: -125.76228 -logZ: -125.91644490634413 ESS: 0.7271098050141133 loss var: 0.30473602\n",
            "Epoch: 461 loss: -125.76902 -logZ: -125.92291463290663 ESS: 0.7319856092485753 loss var: 0.30729344\n",
            "Epoch: 462 loss: -125.769775 -logZ: -125.92598164950819 ESS: 0.731494328770258 loss var: 0.31399545\n",
            "Epoch: 463 loss: -125.77918 -logZ: -125.93110860263319 ESS: 0.7353664957195616 loss var: 0.3030015\n",
            "Epoch: 464 loss: -125.77202 -logZ: -125.92880452548475 ESS: 0.7305796402798029 loss var: 0.3129935\n",
            "Epoch: 465 loss: -125.772484 -logZ: -125.927400716891 ESS: 0.7316952672816361 loss var: 0.31139457\n",
            "Epoch: 466 loss: -125.78217 -logZ: -125.93458760653944 ESS: 0.7363096474155693 loss var: 0.30557424\n",
            "Epoch: 467 loss: -125.775185 -logZ: -125.92592061435194 ESS: 0.7354113802982836 loss var: 0.30135933\n",
            "Epoch: 468 loss: -125.77237 -logZ: -125.9258138028285 ESS: 0.7261784375545262 loss var: 0.30330014\n",
            "Epoch: 469 loss: -125.77223 -logZ: -125.92286885653944 ESS: 0.7370290510197416 loss var: 0.29973608\n",
            "Epoch: 470 loss: -125.77792 -logZ: -125.92531026278944 ESS: 0.7473344486787833 loss var: 0.29573855\n",
            "Epoch: 471 loss: -125.777534 -logZ: -125.92430318271131 ESS: 0.7423110963600192 loss var: 0.2934862\n",
            "Epoch: 472 loss: -125.77689 -logZ: -125.92598164950819 ESS: 0.7429456664715435 loss var: 0.29965195\n",
            "Epoch: 473 loss: -125.77617 -logZ: -125.92599690829725 ESS: 0.7369840677092475 loss var: 0.29951614\n",
            "Epoch: 474 loss: -125.773544 -logZ: -125.920076498141 ESS: 0.7477450845265766 loss var: 0.29500616\n",
            "Epoch: 475 loss: -125.7845 -logZ: -125.93480122958631 ESS: 0.7367591923356197 loss var: 0.2995544\n",
            "Epoch: 476 loss: -125.78615 -logZ: -125.93007100497694 ESS: 0.7502136422053639 loss var: 0.2882549\n",
            "Epoch: 477 loss: -125.7752 -logZ: -125.92334187900038 ESS: 0.748429979069617 loss var: 0.2994144\n",
            "Epoch: 478 loss: -125.7798 -logZ: -125.92173970614881 ESS: 0.7555901771839253 loss var: 0.28520015\n",
            "Epoch: 479 loss: -125.783 -logZ: -125.92779744540663 ESS: 0.7486584166282227 loss var: 0.29207298\n",
            "Epoch: 480 loss: -125.782074 -logZ: -125.93188680087538 ESS: 0.7352318584194489 loss var: 0.29816777\n",
            "Epoch: 481 loss: -125.77227 -logZ: -125.91928304110975 ESS: 0.741496016851005 loss var: 0.29272288\n",
            "Epoch: 482 loss: -125.79175 -logZ: -125.93417561923475 ESS: 0.7470836155709895 loss var: 0.28255698\n",
            "Epoch: 483 loss: -125.78927 -logZ: -125.93554891025038 ESS: 0.7387629977889767 loss var: 0.28987363\n",
            "Epoch: 484 loss: -125.78865 -logZ: -125.93206990634413 ESS: 0.7495499895185781 loss var: 0.2858748\n",
            "Epoch: 485 loss: -125.792595 -logZ: -125.93344319735975 ESS: 0.7542309330823641 loss var: 0.28337553\n",
            "Epoch: 486 loss: -125.7789 -logZ: -125.92058003818006 ESS: 0.7492526806432036 loss var: 0.28243908\n",
            "Epoch: 487 loss: -125.777725 -logZ: -125.91865743075819 ESS: 0.7524606816030812 loss var: 0.28151134\n",
            "Epoch: 488 loss: -125.783 -logZ: -125.9282552090785 ESS: 0.7447844432893056 loss var: 0.2903468\n",
            "Epoch: 489 loss: -125.77229 -logZ: -125.91545308505506 ESS: 0.7427189720399362 loss var: 0.2842127\n",
            "Epoch: 490 loss: -125.78637 -logZ: -125.92413533603163 ESS: 0.7560053492846371 loss var: 0.27548972\n",
            "Epoch: 491 loss: -125.78676 -logZ: -125.92807210360975 ESS: 0.7503968221927838 loss var: 0.28090328\n",
            "Epoch: 492 loss: -125.77495 -logZ: -125.9150716153285 ESS: 0.7495728643179819 loss var: 0.2771304\n",
            "Epoch: 493 loss: -125.78782 -logZ: -125.92474568759413 ESS: 0.7586863804301932 loss var: 0.27465063\n",
            "Epoch: 494 loss: -125.785095 -logZ: -125.92212117587538 ESS: 0.7604016585538237 loss var: 0.27504942\n",
            "Epoch: 495 loss: -125.79645 -logZ: -125.9353352872035 ESS: 0.7471520162498885 loss var: 0.27487338\n",
            "Epoch: 496 loss: -125.78727 -logZ: -125.92466939364881 ESS: 0.7588947884873586 loss var: 0.274762\n",
            "Epoch: 497 loss: -125.78897 -logZ: -125.92747701083631 ESS: 0.7569749715498874 loss var: 0.27670923\n",
            "Epoch: 498 loss: -125.79152 -logZ: -125.929109701266 ESS: 0.7616790392106129 loss var: 0.27643183\n",
            "Epoch: 499 loss: -125.79177 -logZ: -125.92817891513319 ESS: 0.7557054798919135 loss var: 0.27184832\n",
            "Epoch: 500 loss: -125.781494 -logZ: -125.92103780185194 ESS: 0.7553135224568583 loss var: 0.27919593\n",
            "Epoch: 501 loss: -125.782524 -logZ: -125.9192220059535 ESS: 0.7567670907137861 loss var: 0.27395225\n",
            "Epoch: 502 loss: -125.78572 -logZ: -125.92308247958631 ESS: 0.7530120021413299 loss var: 0.27273148\n",
            "Epoch: 503 loss: -125.79155 -logZ: -125.93074239169569 ESS: 0.7501220689809179 loss var: 0.27688214\n",
            "Epoch: 504 loss: -125.791275 -logZ: -125.92546285068006 ESS: 0.7630517059840356 loss var: 0.26934785\n",
            "Epoch: 505 loss: -125.7873 -logZ: -125.92436421786756 ESS: 0.7602160362775445 loss var: 0.27535868\n",
            "Epoch: 506 loss: -125.78915 -logZ: -125.92329610263319 ESS: 0.7619580254864311 loss var: 0.26727358\n",
            "Epoch: 507 loss: -125.79207 -logZ: -125.93123067294569 ESS: 0.7464910719333283 loss var: 0.276287\n",
            "Epoch: 508 loss: -125.79387 -logZ: -125.92755330478163 ESS: 0.7623534309762177 loss var: 0.26615185\n",
            "Epoch: 509 loss: -125.8005 -logZ: -125.9353352872035 ESS: 0.7606801769532086 loss var: 0.26817092\n",
            "Epoch: 510 loss: -125.79291 -logZ: -125.92851460849256 ESS: 0.7593581224912178 loss var: 0.27175763\n",
            "Epoch: 511 loss: -125.79212 -logZ: -125.92585957919569 ESS: 0.7566054450883233 loss var: 0.26543686\n",
            "Epoch: 512 loss: -125.79457 -logZ: -125.92796529208631 ESS: 0.7605176954916208 loss var: 0.26446408\n",
            "Epoch: 513 loss: -125.798874 -logZ: -125.93451131259413 ESS: 0.7594044714473173 loss var: 0.27085456\n",
            "Epoch: 514 loss: -125.79566 -logZ: -125.93100179110975 ESS: 0.7605409050039557 loss var: 0.26983112\n",
            "Epoch: 515 loss: -125.797646 -logZ: -125.92933858310194 ESS: 0.7676529619552556 loss var: 0.26417914\n",
            "Epoch: 516 loss: -125.78809 -logZ: -125.9201985684535 ESS: 0.7684264393716305 loss var: 0.26605916\n",
            "Epoch: 517 loss: -125.78877 -logZ: -125.92083943759413 ESS: 0.76962334676999 loss var: 0.26509312\n",
            "Epoch: 518 loss: -125.790276 -logZ: -125.92299092685194 ESS: 0.7600072653786663 loss var: 0.2644464\n",
            "Epoch: 519 loss: -125.79457 -logZ: -125.92286885653944 ESS: 0.7696468341689894 loss var: 0.25710052\n",
            "Epoch: 520 loss: -125.79882 -logZ: -125.92749226962538 ESS: 0.7707985952159623 loss var: 0.2571669\n",
            "Epoch: 521 loss: -125.798096 -logZ: -125.92875874911756 ESS: 0.7659914520859309 loss var: 0.26093453\n",
            "Epoch: 522 loss: -125.79535 -logZ: -125.923738607516 ESS: 0.7748788193921121 loss var: 0.2586989\n",
            "Epoch: 523 loss: -125.79112 -logZ: -125.92564595614881 ESS: 0.7549448070517063 loss var: 0.2661626\n",
            "Epoch: 524 loss: -125.79576 -logZ: -125.92462361728163 ESS: 0.7703517895444223 loss var: 0.2576157\n",
            "Epoch: 525 loss: -125.802444 -logZ: -125.93149007235975 ESS: 0.7714339754199915 loss var: 0.25862026\n",
            "Epoch: 526 loss: -125.79005 -logZ: -125.9187337247035 ESS: 0.7713162729171423 loss var: 0.2578431\n",
            "Epoch: 527 loss: -125.801056 -logZ: -125.92917073642225 ESS: 0.7697407909331001 loss var: 0.25484964\n",
            "Epoch: 528 loss: -125.79895 -logZ: -125.92895711337538 ESS: 0.7677935362802628 loss var: 0.26026776\n",
            "Epoch: 529 loss: -125.79204 -logZ: -125.91998494540663 ESS: 0.7739807380843104 loss var: 0.25769925\n",
            "Epoch: 530 loss: -125.800896 -logZ: -125.92772115146131 ESS: 0.7705634020419365 loss var: 0.25330245\n",
            "Epoch: 531 loss: -125.7977 -logZ: -125.92125142489881 ESS: 0.7783390463397958 loss var: 0.24592\n",
            "Epoch: 532 loss: -125.796974 -logZ: -125.92332662021131 ESS: 0.7731308843732752 loss var: 0.2512268\n",
            "Epoch: 533 loss: -125.80385 -logZ: -125.92851460849256 ESS: 0.7788855576377238 loss var: 0.24982522\n",
            "Epoch: 534 loss: -125.807076 -logZ: -125.92988789950819 ESS: 0.7797893302070031 loss var: 0.24581438\n",
            "Epoch: 535 loss: -125.80602 -logZ: -125.92735494052381 ESS: 0.7841324857058598 loss var: 0.2421558\n",
            "Epoch: 536 loss: -125.8032 -logZ: -125.92904866610975 ESS: 0.7747842354655415 loss var: 0.25132445\n",
            "Epoch: 537 loss: -125.806885 -logZ: -125.92656148349256 ESS: 0.7882111266753025 loss var: 0.24100779\n",
            "Epoch: 538 loss: -125.80702 -logZ: -125.92967427646131 ESS: 0.7771048686877041 loss var: 0.24325469\n",
            "Epoch: 539 loss: -125.810394 -logZ: -125.93086446200819 ESS: 0.7863851186644245 loss var: 0.24218696\n",
            "Epoch: 540 loss: -125.79802 -logZ: -125.9165364590785 ESS: 0.7917550512151067 loss var: 0.2391106\n",
            "Epoch: 541 loss: -125.81282 -logZ: -125.93271077548475 ESS: 0.7871774703650041 loss var: 0.24098374\n",
            "Epoch: 542 loss: -125.80372 -logZ: -125.922762045016 ESS: 0.7854497312146422 loss var: 0.23727968\n",
            "Epoch: 543 loss: -125.79582 -logZ: -125.91874898349256 ESS: 0.7816238755182437 loss var: 0.24652414\n",
            "Epoch: 544 loss: -125.8035 -logZ: -125.92537129794569 ESS: 0.7790757384590568 loss var: 0.24198373\n",
            "Epoch: 545 loss: -125.79805 -logZ: -125.91919148837538 ESS: 0.779741737095833 loss var: 0.24055873\n",
            "Epoch: 546 loss: -125.8144 -logZ: -125.93489278232069 ESS: 0.7850663044557391 loss var: 0.24140996\n",
            "Epoch: 547 loss: -125.80455 -logZ: -125.92608846103163 ESS: 0.7804321216012815 loss var: 0.24236748\n",
            "Epoch: 548 loss: -125.80197 -logZ: -125.92273152743788 ESS: 0.785713445734664 loss var: 0.2418246\n",
            "Epoch: 549 loss: -125.81987 -logZ: -125.93933308993788 ESS: 0.7867691895328184 loss var: 0.23931888\n",
            "Epoch: 550 loss: -125.805824 -logZ: -125.92524922763319 ESS: 0.7848507091640863 loss var: 0.23833214\n",
            "Epoch: 551 loss: -125.80531 -logZ: -125.92224324618788 ESS: 0.7897762075941068 loss var: 0.23424\n",
            "Epoch: 552 loss: -125.80908 -logZ: -125.92451680575819 ESS: 0.7955819365629493 loss var: 0.23234166\n",
            "Epoch: 553 loss: -125.810875 -logZ: -125.92527974521131 ESS: 0.7942719376344618 loss var: 0.22886266\n",
            "Epoch: 554 loss: -125.80853 -logZ: -125.92721761142225 ESS: 0.7820294862749922 loss var: 0.23578115\n",
            "Epoch: 555 loss: -125.81071 -logZ: -125.92688191806288 ESS: 0.7922868035267412 loss var: 0.23307934\n",
            "Epoch: 556 loss: -125.81094 -logZ: -125.92688191806288 ESS: 0.7911753648093711 loss var: 0.2315286\n",
            "Epoch: 557 loss: -125.813324 -logZ: -125.92975057040663 ESS: 0.7912719497283515 loss var: 0.23369876\n",
            "Epoch: 558 loss: -125.80922 -logZ: -125.92526448642225 ESS: 0.785713445734664 loss var: 0.22960709\n",
            "Epoch: 559 loss: -125.80728 -logZ: -125.92440999423475 ESS: 0.7885238945434511 loss var: 0.23344249\n",
            "Epoch: 560 loss: -125.81302 -logZ: -125.92738545810194 ESS: 0.7967968249086749 loss var: 0.23014344\n",
            "Epoch: 561 loss: -125.82083 -logZ: -125.934480795016 ESS: 0.7934240165969407 loss var: 0.22693759\n",
            "Epoch: 562 loss: -125.80839 -logZ: -125.92076314364881 ESS: 0.7992321699956867 loss var: 0.22546476\n",
            "Epoch: 563 loss: -125.80647 -logZ: -125.91896260653944 ESS: 0.7918517069009069 loss var: 0.22324812\n",
            "Epoch: 564 loss: -125.80865 -logZ: -125.92314351474256 ESS: 0.7941507506009875 loss var: 0.22915925\n",
            "Epoch: 565 loss: -125.81096 -logZ: -125.92302144443006 ESS: 0.7980379222549642 loss var: 0.22341864\n",
            "Epoch: 566 loss: -125.8192 -logZ: -125.93269551669569 ESS: 0.7850663044557391 loss var: 0.22620714\n",
            "Epoch: 567 loss: -125.818726 -logZ: -125.93132222568006 ESS: 0.794174986528371 loss var: 0.22360437\n",
            "Epoch: 568 loss: -125.81236 -logZ: -125.92341817294569 ESS: 0.7998177595433145 loss var: 0.22212978\n",
            "Epoch: 569 loss: -125.81857 -logZ: -125.92804158603163 ESS: 0.7981597024690166 loss var: 0.21785748\n",
            "Epoch: 570 loss: -125.81889 -logZ: -125.92694295321913 ESS: 0.8025561889181653 loss var: 0.21511267\n",
            "Epoch: 571 loss: -125.8128 -logZ: -125.92065633212538 ESS: 0.8040761348159031 loss var: 0.21588951\n",
            "Epoch: 572 loss: -125.81697 -logZ: -125.92503560458631 ESS: 0.8038062570976268 loss var: 0.21593262\n",
            "Epoch: 573 loss: -125.81967 -logZ: -125.92958272372694 ESS: 0.8028011470058521 loss var: 0.22040863\n",
            "Epoch: 574 loss: -125.82122 -logZ: -125.92845357333631 ESS: 0.8063368449112867 loss var: 0.2143447\n",
            "Epoch: 575 loss: -125.81296 -logZ: -125.92076314364881 ESS: 0.805107410750672 loss var: 0.21606284\n",
            "Epoch: 576 loss: -125.81912 -logZ: -125.92701924716444 ESS: 0.805918626795987 loss var: 0.2150758\n",
            "Epoch: 577 loss: -125.819885 -logZ: -125.92616475497694 ESS: 0.8076913909948722 loss var: 0.2126266\n",
            "Epoch: 578 loss: -125.827034 -logZ: -125.93199361239881 ESS: 0.808702623690735 loss var: 0.20992751\n",
            "Epoch: 579 loss: -125.80967 -logZ: -125.91731465732069 ESS: 0.8032422599910667 loss var: 0.2141358\n",
            "Epoch: 580 loss: -125.81558 -logZ: -125.92292989169569 ESS: 0.8086779444218143 loss var: 0.21609202\n",
            "Epoch: 581 loss: -125.81586 -logZ: -125.9180013028285 ESS: 0.8142995021460844 loss var: 0.20426613\n",
            "Epoch: 582 loss: -125.82332 -logZ: -125.92881978427381 ESS: 0.809221062354127 loss var: 0.21090163\n",
            "Epoch: 583 loss: -125.8176 -logZ: -125.92131246005506 ESS: 0.8103825821026492 loss var: 0.20716618\n",
            "Epoch: 584 loss: -125.83122 -logZ: -125.93478597079725 ESS: 0.814150413103967 loss var: 0.20772624\n",
            "Epoch: 585 loss: -125.818924 -logZ: -125.92297566806288 ESS: 0.8110010908590253 loss var: 0.20770861\n",
            "Epoch: 586 loss: -125.823074 -logZ: -125.9277669278285 ESS: 0.8108031167135764 loss var: 0.20936207\n",
            "Epoch: 587 loss: -125.82672 -logZ: -125.93042195712538 ESS: 0.8110258410258306 loss var: 0.20738149\n",
            "Epoch: 588 loss: -125.82292 -logZ: -125.92628682528944 ESS: 0.8127602310071639 loss var: 0.20651044\n",
            "Epoch: 589 loss: -125.83224 -logZ: -125.93567098056288 ESS: 0.8130827401372245 loss var: 0.20753406\n",
            "Epoch: 590 loss: -125.820625 -logZ: -125.92187703525038 ESS: 0.8156674245081327 loss var: 0.20224555\n",
            "Epoch: 591 loss: -125.82588 -logZ: -125.92598164950819 ESS: 0.8171373869386941 loss var: 0.19999363\n",
            "Epoch: 592 loss: -125.82934 -logZ: -125.93100179110975 ESS: 0.8144237638696299 loss var: 0.20317537\n",
            "Epoch: 593 loss: -125.83131 -logZ: -125.933748373141 ESS: 0.814349204560214 loss var: 0.20540208\n",
            "Epoch: 594 loss: -125.822845 -logZ: -125.92221272860975 ESS: 0.8187349179786234 loss var: 0.19840498\n",
            "Epoch: 595 loss: -125.82081 -logZ: -125.92042745028944 ESS: 0.8190348025676571 loss var: 0.1994413\n",
            "Epoch: 596 loss: -125.82537 -logZ: -125.92628682528944 ESS: 0.8154931977577599 loss var: 0.20126712\n",
            "Epoch: 597 loss: -125.825806 -logZ: -125.92700398837538 ESS: 0.8142498027654568 loss var: 0.20132595\n",
            "Epoch: 598 loss: -125.82967 -logZ: -125.931062826266 ESS: 0.8124874385847147 loss var: 0.2021116\n",
            "Epoch: 599 loss: -125.827545 -logZ: -125.92820943271131 ESS: 0.8188098788304758 loss var: 0.20235208\n",
            "Epoch: 600 loss: -125.825356 -logZ: -125.9231282559535 ESS: 0.8187848911173132 loss var: 0.19453833\n",
            "Epoch: 601 loss: -125.824524 -logZ: -125.92210591708631 ESS: 0.8220396963632315 loss var: 0.19586265\n",
            "Epoch: 602 loss: -125.82321 -logZ: -125.91900838290663 ESS: 0.825307439997857 loss var: 0.19162357\n",
            "Epoch: 603 loss: -125.82388 -logZ: -125.92189229403944 ESS: 0.821212253282251 loss var: 0.19557059\n",
            "Epoch: 604 loss: -125.83849 -logZ: -125.93622029696913 ESS: 0.8189848141760484 loss var: 0.1943634\n",
            "Epoch: 605 loss: -125.82887 -logZ: -125.92558492099256 ESS: 0.8224160824144235 loss var: 0.19305153\n",
            "Epoch: 606 loss: -125.83006 -logZ: -125.92653096591444 ESS: 0.8219142726292683 loss var: 0.19266054\n",
            "Epoch: 607 loss: -125.825325 -logZ: -125.9216634122035 ESS: 0.8238982069999036 loss var: 0.19283333\n",
            "Epoch: 608 loss: -125.831535 -logZ: -125.92762959872694 ESS: 0.8221651392367979 loss var: 0.19112672\n",
            "Epoch: 609 loss: -125.828995 -logZ: -125.92317403232069 ESS: 0.8259625458538703 loss var: 0.18748856\n",
            "Epoch: 610 loss: -125.83289 -logZ: -125.92637837802381 ESS: 0.8285123174129392 loss var: 0.18688166\n",
            "Epoch: 611 loss: -125.8396 -logZ: -125.93283284579725 ESS: 0.8272995647863887 loss var: 0.18604949\n",
            "Epoch: 612 loss: -125.8297 -logZ: -125.92572225009413 ESS: 0.822014610085364 loss var: 0.19110677\n",
            "Epoch: 613 loss: -125.83195 -logZ: -125.9277669278285 ESS: 0.8236970845287921 loss var: 0.19200316\n",
            "Epoch: 614 loss: -125.83365 -logZ: -125.92639363681288 ESS: 0.8300054283834905 loss var: 0.18524714\n",
            "Epoch: 615 loss: -125.83379 -logZ: -125.92852986728163 ESS: 0.824753525509979 loss var: 0.18860523\n",
            "Epoch: 616 loss: -125.82455 -logZ: -125.91734517489881 ESS: 0.8283606261648667 loss var: 0.1849125\n",
            "Epoch: 617 loss: -125.82899 -logZ: -125.92048848544569 ESS: 0.8261642214836471 loss var: 0.18069887\n",
            "Epoch: 618 loss: -125.83099 -logZ: -125.92169392978163 ESS: 0.8335846189772136 loss var: 0.18075608\n",
            "Epoch: 619 loss: -125.83614 -logZ: -125.92952168857069 ESS: 0.8251815176838251 loss var: 0.18491298\n",
            "Epoch: 620 loss: -125.83962 -logZ: -125.92871297275038 ESS: 0.8370004222542431 loss var: 0.178896\n",
            "Epoch: 621 loss: -125.83597 -logZ: -125.92454732333631 ESS: 0.83935370103283 loss var: 0.17810588\n",
            "Epoch: 622 loss: -125.830696 -logZ: -125.91972554599256 ESS: 0.8339153913748308 loss var: 0.1776411\n",
            "Epoch: 623 loss: -125.8313 -logZ: -125.91996968661756 ESS: 0.8351633290283312 loss var: 0.17644307\n",
            "Epoch: 624 loss: -125.83099 -logZ: -125.91902364169569 ESS: 0.8412770294287919 loss var: 0.17810446\n",
            "Epoch: 625 loss: -125.83195 -logZ: -125.92140401278944 ESS: 0.8353162660025466 loss var: 0.17920123\n",
            "Epoch: 626 loss: -125.83912 -logZ: -125.9284993497035 ESS: 0.834679213314592 loss var: 0.17855798\n",
            "Epoch: 627 loss: -125.84037 -logZ: -125.92956746493788 ESS: 0.8339917421041544 loss var: 0.17770357\n",
            "Epoch: 628 loss: -125.82864 -logZ: -125.9162923184535 ESS: 0.8390207715306153 loss var: 0.17559743\n",
            "Epoch: 629 loss: -125.83471 -logZ: -125.91969502841444 ESS: 0.8442089325945137 loss var: 0.17060502\n",
            "Epoch: 630 loss: -125.83642 -logZ: -125.92167867099256 ESS: 0.8438483246654039 loss var: 0.17068283\n",
            "Epoch: 631 loss: -125.83471 -logZ: -125.91919148837538 ESS: 0.844157407742835 loss var: 0.16910619\n",
            "Epoch: 632 loss: -125.841225 -logZ: -125.92646993075819 ESS: 0.8442346961996875 loss var: 0.1710639\n",
            "Epoch: 633 loss: -125.83512 -logZ: -125.91899312411756 ESS: 0.8442862257688234 loss var: 0.16739467\n",
            "Epoch: 634 loss: -125.84217 -logZ: -125.92714131747694 ESS: 0.8441058860358875 loss var: 0.1703372\n",
            "Epoch: 635 loss: -125.84337 -logZ: -125.92828572665663 ESS: 0.8411486705346956 loss var: 0.1690391\n",
            "Epoch: 636 loss: -125.842094 -logZ: -125.92875874911756 ESS: 0.8385088301397482 loss var: 0.17272303\n",
            "Epoch: 637 loss: -125.834625 -logZ: -125.91684163485975 ESS: 0.8475648026066119 loss var: 0.16452049\n",
            "Epoch: 638 loss: -125.84565 -logZ: -125.92895711337538 ESS: 0.8447243541137633 loss var: 0.16668868\n",
            "Epoch: 639 loss: -125.851074 -logZ: -125.93644917880506 ESS: 0.839686762643876 loss var: 0.16986424\n",
            "Epoch: 640 loss: -125.84271 -logZ: -125.92741597568006 ESS: 0.8425359836259535 loss var: 0.16853258\n",
            "Epoch: 641 loss: -125.838425 -logZ: -125.92122090732069 ESS: 0.8481858049986284 loss var: 0.16614535\n",
            "Epoch: 642 loss: -125.838875 -logZ: -125.92119038974256 ESS: 0.8462725075462595 loss var: 0.16402191\n",
            "Epoch: 643 loss: -125.83907 -logZ: -125.92073262607069 ESS: 0.8478752469481536 loss var: 0.16299118\n",
            "Epoch: 644 loss: -125.843994 -logZ: -125.9265462247035 ESS: 0.8464274788580584 loss var: 0.1644299\n",
            "Epoch: 645 loss: -125.848595 -logZ: -125.93124593173475 ESS: 0.8448016944784825 loss var: 0.1641655\n",
            "Epoch: 646 loss: -125.84777 -logZ: -125.92633260165663 ESS: 0.8524415163407615 loss var: 0.15662777\n",
            "Epoch: 647 loss: -125.84431 -logZ: -125.92376912509413 ESS: 0.8515055103777502 loss var: 0.15862602\n",
            "Epoch: 648 loss: -125.84585 -logZ: -125.92723287021131 ESS: 0.845911018151127 loss var: 0.16177002\n",
            "Epoch: 649 loss: -125.849976 -logZ: -125.93048299228163 ESS: 0.8499477837980425 loss var: 0.16069463\n",
            "Epoch: 650 loss: -125.84722 -logZ: -125.92897237216444 ESS: 0.8495069462467308 loss var: 0.16436532\n",
            "Epoch: 651 loss: -125.840775 -logZ: -125.91905415927381 ESS: 0.8534306388785063 loss var: 0.1555395\n",
            "Epoch: 652 loss: -125.84659 -logZ: -125.92563069735975 ESS: 0.8520253867340207 loss var: 0.15755261\n",
            "Epoch: 653 loss: -125.849884 -logZ: -125.93063558017225 ESS: 0.8485482664952039 loss var: 0.16060792\n",
            "Epoch: 654 loss: -125.846344 -logZ: -125.92563069735975 ESS: 0.8527017005454203 loss var: 0.15927461\n",
            "Epoch: 655 loss: -125.84657 -logZ: -125.92415059482069 ESS: 0.8535348237821039 loss var: 0.15419301\n",
            "Epoch: 656 loss: -125.84685 -logZ: -125.92254842196913 ESS: 0.8588127338049384 loss var: 0.15142775\n",
            "Epoch: 657 loss: -125.84458 -logZ: -125.91951192294569 ESS: 0.862016177479613 loss var: 0.1506058\n",
            "Epoch: 658 loss: -125.844696 -logZ: -125.92050374423475 ESS: 0.8575556282957659 loss var: 0.15112817\n",
            "Epoch: 659 loss: -125.84867 -logZ: -125.923738607516 ESS: 0.8592846233259759 loss var: 0.15003453\n",
            "Epoch: 660 loss: -125.84521 -logZ: -125.92186177646131 ESS: 0.8564833079341772 loss var: 0.1529036\n",
            "Epoch: 661 loss: -125.85066 -logZ: -125.92706502353163 ESS: 0.8561958404284542 loss var: 0.15206817\n",
            "Epoch: 662 loss: -125.85112 -logZ: -125.92415059482069 ESS: 0.8630164098858266 loss var: 0.14572886\n",
            "Epoch: 663 loss: -125.849686 -logZ: -125.92440999423475 ESS: 0.8600716821266459 loss var: 0.14920388\n",
            "Epoch: 664 loss: -125.8471 -logZ: -125.92099202548475 ESS: 0.8616479630997145 loss var: 0.14738159\n",
            "Epoch: 665 loss: -125.85145 -logZ: -125.92576802646131 ESS: 0.8587865253201517 loss var: 0.1475944\n",
            "Epoch: 666 loss: -125.85496 -logZ: -125.92927754794569 ESS: 0.862410867500716 loss var: 0.14965273\n",
            "Epoch: 667 loss: -125.85595 -logZ: -125.92990315829725 ESS: 0.8608069207428032 loss var: 0.14729312\n",
            "Epoch: 668 loss: -125.85725 -logZ: -125.93077290927381 ESS: 0.8618846542840854 loss var: 0.14685616\n",
            "Epoch: 669 loss: -125.845924 -logZ: -125.91868794833631 ESS: 0.8647564148889394 loss var: 0.14600885\n",
            "Epoch: 670 loss: -125.84936 -logZ: -125.922273763766 ESS: 0.8648091970426074 loss var: 0.14645968\n",
            "Epoch: 671 loss: -125.858795 -logZ: -125.93072713290663 ESS: 0.8653371958033298 loss var: 0.14378819\n",
            "Epoch: 672 loss: -125.85096 -logZ: -125.92341817294569 ESS: 0.8633852090541845 loss var: 0.14432009\n",
            "Epoch: 673 loss: -125.855034 -logZ: -125.92709554110975 ESS: 0.8655749004048914 loss var: 0.14452317\n",
            "Epoch: 674 loss: -125.852974 -logZ: -125.92637837802381 ESS: 0.862016177479613 loss var: 0.14651887\n",
            "Epoch: 675 loss: -125.8519 -logZ: -125.92360127841444 ESS: 0.8666057084458253 loss var: 0.14375213\n",
            "Epoch: 676 loss: -125.85542 -logZ: -125.92688191806288 ESS: 0.8641232802632564 loss var: 0.14227077\n",
            "Epoch: 677 loss: -125.85505 -logZ: -125.92465413485975 ESS: 0.8688565967090999 loss var: 0.13858409\n",
            "Epoch: 678 loss: -125.85037 -logZ: -125.92036641513319 ESS: 0.8677966278316038 loss var: 0.13970134\n",
            "Epoch: 679 loss: -125.85532 -logZ: -125.92468465243788 ESS: 0.8683529501565841 loss var: 0.13837278\n",
            "Epoch: 680 loss: -125.85416 -logZ: -125.92392171298475 ESS: 0.8686444994083813 loss var: 0.13927734\n",
            "Epoch: 681 loss: -125.855194 -logZ: -125.92395223056288 ESS: 0.8710335821860353 loss var: 0.1373681\n",
            "Epoch: 682 loss: -125.8586 -logZ: -125.92735494052381 ESS: 0.870289608700041 loss var: 0.13742241\n",
            "Epoch: 683 loss: -125.85437 -logZ: -125.9228841153285 ESS: 0.8705021076878023 loss var: 0.13685349\n",
            "Epoch: 684 loss: -125.86018 -logZ: -125.92914021884413 ESS: 0.871193087801128 loss var: 0.1381464\n",
            "Epoch: 685 loss: -125.85204 -logZ: -125.9204427090785 ESS: 0.8698647663317651 loss var: 0.13624725\n",
            "Epoch: 686 loss: -125.854095 -logZ: -125.92024434482069 ESS: 0.8771689112065689 loss var: 0.13293573\n",
            "Epoch: 687 loss: -125.85772 -logZ: -125.92512715732069 ESS: 0.8731627270137313 loss var: 0.13463841\n",
            "Epoch: 688 loss: -125.852844 -logZ: -125.917879232516 ESS: 0.8762324939192018 loss var: 0.12963812\n",
            "Epoch: 689 loss: -125.847 -logZ: -125.91330159579725 ESS: 0.8745227725228227 loss var: 0.13263188\n",
            "Epoch: 690 loss: -125.86292 -logZ: -125.92895711337538 ESS: 0.8751368192903938 loss var: 0.13182043\n",
            "Epoch: 691 loss: -125.854195 -logZ: -125.91816914950819 ESS: 0.8805214354206464 loss var: 0.12838839\n",
            "Epoch: 692 loss: -125.85689 -logZ: -125.92167867099256 ESS: 0.8773027667725614 loss var: 0.12943788\n",
            "Epoch: 693 loss: -125.86207 -logZ: -125.92622579013319 ESS: 0.8786424463932795 loss var: 0.12808913\n",
            "Epoch: 694 loss: -125.863884 -logZ: -125.92778218661756 ESS: 0.8794740749347874 loss var: 0.12759748\n",
            "Epoch: 695 loss: -125.86273 -logZ: -125.92775166903944 ESS: 0.8771153746988369 loss var: 0.12982267\n",
            "Epoch: 696 loss: -125.859146 -logZ: -125.92457784091444 ESS: 0.8763929515706234 loss var: 0.13074736\n",
            "Epoch: 697 loss: -125.86238 -logZ: -125.92567647372694 ESS: 0.8795814391628093 loss var: 0.1261796\n",
            "Epoch: 698 loss: -125.86275 -logZ: -125.92462361728163 ESS: 0.882323659850492 loss var: 0.12357895\n",
            "Epoch: 699 loss: -125.8639 -logZ: -125.92622579013319 ESS: 0.8829701297152324 loss var: 0.12494618\n",
            "Epoch: 700 loss: -125.86645 -logZ: -125.92943013583631 ESS: 0.8794472359255294 loss var: 0.12527296\n",
            "Epoch: 701 loss: -125.8605 -logZ: -125.92291463290663 ESS: 0.8816238516093452 loss var: 0.12455571\n",
            "Epoch: 702 loss: -125.86297 -logZ: -125.92492879306288 ESS: 0.8830240235797572 loss var: 0.12391391\n",
            "Epoch: 703 loss: -125.870384 -logZ: -125.933504232516 ESS: 0.8799304634309018 loss var: 0.12575155\n",
            "Epoch: 704 loss: -125.86845 -logZ: -125.92979634677381 ESS: 0.8832665866808377 loss var: 0.12244707\n",
            "Epoch: 705 loss: -125.8657 -logZ: -125.92685140048475 ESS: 0.8831857249112595 loss var: 0.121773824\n",
            "Epoch: 706 loss: -125.86073 -logZ: -125.92045796786756 ESS: 0.8861014176361476 loss var: 0.11909333\n",
            "Epoch: 707 loss: -125.867584 -logZ: -125.92845357333631 ESS: 0.885074429802592 loss var: 0.12175153\n",
            "Epoch: 708 loss: -125.87556 -logZ: -125.93580830966444 ESS: 0.884534388065857 loss var: 0.120005615\n",
            "Epoch: 709 loss: -125.86772 -logZ: -125.92668355380506 ESS: 0.8875357857893501 loss var: 0.11749621\n",
            "Epoch: 710 loss: -125.87686 -logZ: -125.93669331943006 ESS: 0.8861825463575871 loss var: 0.11919798\n",
            "Epoch: 711 loss: -125.86702 -logZ: -125.92634786044569 ESS: 0.887292050278727 loss var: 0.118491046\n",
            "Epoch: 712 loss: -125.861496 -logZ: -125.92132771884413 ESS: 0.886696534113709 loss var: 0.11959107\n",
            "Epoch: 713 loss: -125.87107 -logZ: -125.93065083896131 ESS: 0.8876712233355598 loss var: 0.11941912\n",
            "Epoch: 714 loss: -125.87113 -logZ: -125.93104756747694 ESS: 0.886696534113709 loss var: 0.1199733\n",
            "Epoch: 715 loss: -125.865906 -logZ: -125.92466939364881 ESS: 0.8891624011065733 loss var: 0.11764263\n",
            "Epoch: 716 loss: -125.868286 -logZ: -125.92672933017225 ESS: 0.8886469839714093 loss var: 0.11652662\n",
            "Epoch: 717 loss: -125.85989 -logZ: -125.91786397372694 ESS: 0.8916079154458317 loss var: 0.11668778\n",
            "Epoch: 718 loss: -125.86757 -logZ: -125.92561543857069 ESS: 0.8897867270994461 loss var: 0.1158365\n",
            "Epoch: 719 loss: -125.86612 -logZ: -125.92415059482069 ESS: 0.8891624011065733 loss var: 0.1154025\n",
            "Epoch: 720 loss: -125.864975 -logZ: -125.92169392978163 ESS: 0.8922339585582837 loss var: 0.11335722\n",
            "Epoch: 721 loss: -125.8703 -logZ: -125.92782796298475 ESS: 0.8898410370287544 loss var: 0.11464421\n",
            "Epoch: 722 loss: -125.86858 -logZ: -125.92515767489881 ESS: 0.8927514561463143 loss var: 0.11325908\n",
            "Epoch: 723 loss: -125.86561 -logZ: -125.92244161044569 ESS: 0.8917439743971245 loss var: 0.113443375\n",
            "Epoch: 724 loss: -125.86786 -logZ: -125.92241109286756 ESS: 0.8967380442021922 loss var: 0.10933045\n",
            "Epoch: 725 loss: -125.86563 -logZ: -125.92209065829725 ESS: 0.8934055663548057 loss var: 0.113356344\n",
            "Epoch: 726 loss: -125.877396 -logZ: -125.93356526767225 ESS: 0.8928876896013836 loss var: 0.112220265\n",
            "Epoch: 727 loss: -125.87576 -logZ: -125.93136800204725 ESS: 0.8941965889854399 loss var: 0.11096405\n",
            "Epoch: 728 loss: -125.87175 -logZ: -125.92407430087538 ESS: 0.900220304710005 loss var: 0.10473513\n",
            "Epoch: 729 loss: -125.8696 -logZ: -125.92308247958631 ESS: 0.8976963754814565 loss var: 0.10672331\n",
            "Epoch: 730 loss: -125.873375 -logZ: -125.92682088290663 ESS: 0.8973676894380865 loss var: 0.1063778\n",
            "Epoch: 731 loss: -125.87492 -logZ: -125.92952168857069 ESS: 0.8965191407383208 loss var: 0.10953351\n",
            "Epoch: 732 loss: -125.874725 -logZ: -125.92730916415663 ESS: 0.8995886579137279 loss var: 0.10510554\n",
            "Epoch: 733 loss: -125.87485 -logZ: -125.92834676181288 ESS: 0.8970664996203639 loss var: 0.10643159\n",
            "Epoch: 734 loss: -125.871956 -logZ: -125.92477620517225 ESS: 0.8979977767798175 loss var: 0.10486478\n",
            "Epoch: 735 loss: -125.87397 -logZ: -125.92627156650038 ESS: 0.9026411377114284 loss var: 0.105587564\n",
            "Epoch: 736 loss: -125.87058 -logZ: -125.92196858798475 ESS: 0.9025860465498162 loss var: 0.1031783\n",
            "Epoch: 737 loss: -125.877495 -logZ: -125.929353841891 ESS: 0.9002752514737875 loss var: 0.103259094\n",
            "Epoch: 738 loss: -125.87396 -logZ: -125.92427266513319 ESS: 0.9038539943683574 loss var: 0.10067747\n",
            "Epoch: 739 loss: -125.87546 -logZ: -125.92585957919569 ESS: 0.902310641173578 loss var: 0.10002557\n",
            "Epoch: 740 loss: -125.873436 -logZ: -125.923982748141 ESS: 0.9028339832588943 loss var: 0.10080283\n",
            "Epoch: 741 loss: -125.8734 -logZ: -125.92399800693006 ESS: 0.9037160877156338 loss var: 0.10110779\n",
            "Epoch: 742 loss: -125.86811 -logZ: -125.91723836337538 ESS: 0.906008065016164 loss var: 0.09806911\n",
            "Epoch: 743 loss: -125.87295 -logZ: -125.92318929110975 ESS: 0.9040746887865917 loss var: 0.10056025\n",
            "Epoch: 744 loss: -125.877945 -logZ: -125.92909444247694 ESS: 0.9016775276759574 loss var: 0.10180703\n",
            "Epoch: 745 loss: -125.87835 -logZ: -125.92859090243788 ESS: 0.9040470990376341 loss var: 0.1003761\n",
            "Epoch: 746 loss: -125.87943 -logZ: -125.92839253818006 ESS: 0.906091016329034 loss var: 0.0975842\n",
            "Epoch: 747 loss: -125.878784 -logZ: -125.92814839755506 ESS: 0.9061186684543489 loss var: 0.09886627\n",
            "Epoch: 748 loss: -125.87575 -logZ: -125.92576802646131 ESS: 0.9049027728939487 loss var: 0.100172505\n",
            "Epoch: 749 loss: -125.87892 -logZ: -125.92744649325819 ESS: 0.9066165510399571 loss var: 0.09677435\n",
            "Epoch: 750 loss: -125.881195 -logZ: -125.93014729892225 ESS: 0.9059804162661467 loss var: 0.09763776\n",
            "Epoch: 751 loss: -125.88182 -logZ: -125.93000996982069 ESS: 0.9072808200670639 loss var: 0.096153446\n",
            "Epoch: 752 loss: -125.8771 -logZ: -125.92427266513319 ESS: 0.9089436227422611 loss var: 0.093922876\n",
            "Epoch: 753 loss: -125.8753 -logZ: -125.92247212802381 ESS: 0.9098872299725492 loss var: 0.09437425\n",
            "Epoch: 754 loss: -125.87982 -logZ: -125.92793477450819 ESS: 0.9072254457303564 loss var: 0.096012056\n",
            "Epoch: 755 loss: -125.88146 -logZ: -125.92863667880506 ESS: 0.9087772054305766 loss var: 0.09386482\n",
            "Epoch: 756 loss: -125.8722 -logZ: -125.92048848544569 ESS: 0.9040746887865917 loss var: 0.095858276\n",
            "Epoch: 757 loss: -125.87986 -logZ: -125.92502034579725 ESS: 0.9136714649962305 loss var: 0.090432234\n",
            "Epoch: 758 loss: -125.87929 -logZ: -125.92602742587538 ESS: 0.9097206398970379 loss var: 0.09297328\n",
            "Epoch: 759 loss: -125.87881 -logZ: -125.9236165372035 ESS: 0.9137830039651448 loss var: 0.08936819\n",
            "Epoch: 760 loss: -125.87932 -logZ: -125.92566121493788 ESS: 0.911109823025116 loss var: 0.09262022\n",
            "Epoch: 761 loss: -125.878426 -logZ: -125.922273763766 ESS: 0.916184388019335 loss var: 0.087929726\n",
            "Epoch: 762 loss: -125.87735 -logZ: -125.92222798739881 ESS: 0.9133369297714351 loss var: 0.08930886\n",
            "Epoch: 763 loss: -125.88004 -logZ: -125.92500508700819 ESS: 0.9134484279010374 loss var: 0.0895791\n",
            "Epoch: 764 loss: -125.88672 -logZ: -125.9306966153285 ESS: 0.9159607374924293 loss var: 0.08810671\n",
            "Epoch: 765 loss: -125.885506 -logZ: -125.93089497958631 ESS: 0.9130861087380603 loss var: 0.09066711\n",
            "Epoch: 766 loss: -125.88105 -logZ: -125.92541707431288 ESS: 0.914759550952107 loss var: 0.08869798\n",
            "Epoch: 767 loss: -125.879295 -logZ: -125.92372334872694 ESS: 0.913894556550487 loss var: 0.08840063\n",
            "Epoch: 768 loss: -125.879745 -logZ: -125.92328084384413 ESS: 0.9167717305054737 loss var: 0.08722978\n",
            "Epoch: 769 loss: -125.87362 -logZ: -125.91595662509413 ESS: 0.9183958713306254 loss var: 0.084492564\n",
            "Epoch: 770 loss: -125.883125 -logZ: -125.92529500400038 ESS: 0.9187883362127414 loss var: 0.08428463\n",
            "Epoch: 771 loss: -125.8799 -logZ: -125.92143453036756 ESS: 0.9202475318467502 loss var: 0.083145775\n",
            "Epoch: 772 loss: -125.88846 -logZ: -125.93171895419569 ESS: 0.9165759078519748 loss var: 0.08641752\n",
            "Epoch: 773 loss: -125.886734 -logZ: -125.92973531161756 ESS: 0.9176674526917086 loss var: 0.08617491\n",
            "Epoch: 774 loss: -125.8852 -logZ: -125.92767537509413 ESS: 0.9186481509341479 loss var: 0.085024014\n",
            "Epoch: 775 loss: -125.882774 -logZ: -125.92514241610975 ESS: 0.9192651261932109 loss var: 0.0850495\n",
            "Epoch: 776 loss: -125.88575 -logZ: -125.92714131747694 ESS: 0.9204160496302282 loss var: 0.082848184\n",
            "Epoch: 777 loss: -125.88703 -logZ: -125.928865560641 ESS: 0.9193492912818426 loss var: 0.083727665\n",
            "Epoch: 778 loss: -125.88347 -logZ: -125.92491353427381 ESS: 0.9202756160012258 loss var: 0.08282468\n",
            "Epoch: 779 loss: -125.88767 -logZ: -125.92860616122694 ESS: 0.9210061049268923 loss var: 0.08167884\n",
            "Epoch: 780 loss: -125.88537 -logZ: -125.92700398837538 ESS: 0.919882515820354 loss var: 0.08320506\n",
            "Epoch: 781 loss: -125.885345 -logZ: -125.92595113193006 ESS: 0.9219059642641625 loss var: 0.081210196\n",
            "Epoch: 782 loss: -125.885086 -logZ: -125.92610371982069 ESS: 0.9209217881593844 loss var: 0.081946686\n",
            "Epoch: 783 loss: -125.88855 -logZ: -125.92907918368788 ESS: 0.9209779984800042 loss var: 0.08055833\n",
            "Epoch: 784 loss: -125.882545 -logZ: -125.92314351474256 ESS: 0.922074785743489 loss var: 0.08136073\n",
            "Epoch: 785 loss: -125.88589 -logZ: -125.92570699130506 ESS: 0.9233137549144609 loss var: 0.079623066\n",
            "Epoch: 786 loss: -125.88945 -logZ: -125.92900288974256 ESS: 0.9237365111630472 loss var: 0.07905618\n",
            "Epoch: 787 loss: -125.88924 -logZ: -125.92796529208631 ESS: 0.9245261741275134 loss var: 0.07707087\n",
            "Epoch: 788 loss: -125.89082 -logZ: -125.92860616122694 ESS: 0.9271821259836853 loss var: 0.0755534\n",
            "Epoch: 789 loss: -125.884995 -logZ: -125.92341817294569 ESS: 0.9259097089996041 loss var: 0.0768033\n",
            "Epoch: 790 loss: -125.88931 -logZ: -125.92735494052381 ESS: 0.9262771166597872 loss var: 0.07580014\n",
            "Epoch: 791 loss: -125.88912 -logZ: -125.92578328525038 ESS: 0.9294485196890991 loss var: 0.07343101\n",
            "Epoch: 792 loss: -125.88689 -logZ: -125.92473042880506 ESS: 0.9263901944984626 loss var: 0.075542286\n",
            "Epoch: 793 loss: -125.88775 -logZ: -125.925203451266 ESS: 0.9272387184166635 loss var: 0.074627526\n",
            "Epoch: 794 loss: -125.88717 -logZ: -125.92372334872694 ESS: 0.9291932740830385 loss var: 0.072991036\n",
            "Epoch: 795 loss: -125.88579 -logZ: -125.92320454989881 ESS: 0.9276066534373824 loss var: 0.07469399\n",
            "Epoch: 796 loss: -125.886894 -logZ: -125.92305196200819 ESS: 0.9300443654723615 loss var: 0.07224852\n",
            "Epoch: 797 loss: -125.887474 -logZ: -125.92271626864881 ESS: 0.9316920199242861 loss var: 0.070509575\n",
            "Epoch: 798 loss: -125.89341 -logZ: -125.92981160556288 ESS: 0.9284846262367362 loss var: 0.072332114\n",
            "Epoch: 799 loss: -125.89539 -logZ: -125.9321614590785 ESS: 0.9288814024209047 loss var: 0.0734352\n",
            "Epoch: 800 loss: -125.888275 -logZ: -125.92440999423475 ESS: 0.9296754635335801 loss var: 0.072033055\n",
            "Epoch: 801 loss: -125.88769 -logZ: -125.92343343173475 ESS: 0.9310382907466359 loss var: 0.071696535\n",
            "Epoch: 802 loss: -125.894295 -logZ: -125.92976582919569 ESS: 0.930243065606151 loss var: 0.07040672\n",
            "Epoch: 803 loss: -125.886375 -logZ: -125.9221516934535 ESS: 0.9307542037593226 loss var: 0.07143755\n",
            "Epoch: 804 loss: -125.8918 -logZ: -125.92701924716444 ESS: 0.9316351556916493 loss var: 0.07033417\n",
            "Epoch: 805 loss: -125.89287 -logZ: -125.92772115146131 ESS: 0.9320617220472084 loss var: 0.069448575\n",
            "Epoch: 806 loss: -125.891525 -logZ: -125.92636311923475 ESS: 0.9326877060235962 loss var: 0.069719285\n",
            "Epoch: 807 loss: -125.893394 -logZ: -125.92839253818006 ESS: 0.9321755060575717 loss var: 0.069881395\n",
            "Epoch: 808 loss: -125.89445 -logZ: -125.92924703036756 ESS: 0.9321755060575717 loss var: 0.06934733\n",
            "Epoch: 809 loss: -125.890625 -logZ: -125.92431844150038 ESS: 0.9346252248488381 loss var: 0.067283444\n",
            "Epoch: 810 loss: -125.89008 -logZ: -125.923250326266 ESS: 0.9357668214150036 loss var: 0.066399924\n",
            "Epoch: 811 loss: -125.88902 -logZ: -125.92235005771131 ESS: 0.9348819625896396 loss var: 0.0664421\n",
            "Epoch: 812 loss: -125.89059 -logZ: -125.92372334872694 ESS: 0.9358239378321991 loss var: 0.06626096\n",
            "Epoch: 813 loss: -125.89206 -logZ: -125.925935873141 ESS: 0.9343115300229329 loss var: 0.06776441\n",
            "Epoch: 814 loss: -125.89402 -logZ: -125.92688191806288 ESS: 0.9365953507645081 loss var: 0.065872535\n",
            "Epoch: 815 loss: -125.89147 -logZ: -125.92460835849256 ESS: 0.9355098406738395 loss var: 0.06622043\n",
            "Epoch: 816 loss: -125.893745 -logZ: -125.92566121493788 ESS: 0.937739353737991 loss var: 0.063680425\n",
            "Epoch: 817 loss: -125.89332 -logZ: -125.92509663974256 ESS: 0.9381400848131287 loss var: 0.06348549\n",
            "Epoch: 818 loss: -125.897606 -logZ: -125.92949117099256 ESS: 0.9382259780349399 loss var: 0.06386117\n",
            "Epoch: 819 loss: -125.898674 -logZ: -125.93084920321913 ESS: 0.9376248905884551 loss var: 0.06443134\n",
            "Epoch: 820 loss: -125.895195 -logZ: -125.92688191806288 ESS: 0.938512345574772 loss var: 0.063352644\n",
            "Epoch: 821 loss: -125.90061 -logZ: -125.93123067294569 ESS: 0.9402610813222112 loss var: 0.061106708\n",
            "Epoch: 822 loss: -125.89682 -logZ: -125.92820943271131 ESS: 0.9388847540521743 loss var: 0.062676795\n",
            "Epoch: 823 loss: -125.89635 -logZ: -125.92706502353163 ESS: 0.9399741801920046 loss var: 0.061258245\n",
            "Epoch: 824 loss: -125.89801 -logZ: -125.92852986728163 ESS: 0.9408064347432912 loss var: 0.061193217\n",
            "Epoch: 825 loss: -125.89135 -logZ: -125.92128194247694 ESS: 0.9416106900577345 loss var: 0.059788033\n",
            "Epoch: 826 loss: -125.894684 -logZ: -125.92509663974256 ESS: 0.9411510314434538 loss var: 0.06091495\n",
            "Epoch: 827 loss: -125.8955 -logZ: -125.92656148349256 ESS: 0.9397447223193027 loss var: 0.06212901\n",
            "Epoch: 828 loss: -125.89792 -logZ: -125.92851460849256 ESS: 0.9411223102315773 loss var: 0.061525185\n",
            "Epoch: 829 loss: -125.89641 -logZ: -125.92653096591444 ESS: 0.9413233771224674 loss var: 0.060163584\n",
            "Epoch: 830 loss: -125.89302 -logZ: -125.92314351474256 ESS: 0.9415819548184045 loss var: 0.0602571\n",
            "Epoch: 831 loss: -125.89695 -logZ: -125.92631734286756 ESS: 0.9423581141657047 loss var: 0.058476873\n",
            "Epoch: 832 loss: -125.8995 -logZ: -125.92946065341444 ESS: 0.9416106900577345 loss var: 0.05997132\n",
            "Epoch: 833 loss: -125.89685 -logZ: -125.92685140048475 ESS: 0.9413233771224674 loss var: 0.05985413\n",
            "Epoch: 834 loss: -125.896194 -logZ: -125.9253255215785 ESS: 0.9433364101873706 loss var: 0.05825089\n",
            "Epoch: 835 loss: -125.8985 -logZ: -125.92743123446913 ESS: 0.9433939886296994 loss var: 0.05774526\n",
            "Epoch: 836 loss: -125.90066 -logZ: -125.92936910068006 ESS: 0.9439699663812923 loss var: 0.057305615\n",
            "Epoch: 837 loss: -125.898796 -logZ: -125.92775166903944 ESS: 0.9436819335618811 loss var: 0.057947285\n",
            "Epoch: 838 loss: -125.895195 -logZ: -125.92347920810194 ESS: 0.9445462957891119 loss var: 0.056400683\n",
            "Epoch: 839 loss: -125.89847 -logZ: -125.92657674228163 ESS: 0.9447480942003611 loss var: 0.056018\n",
            "Epoch: 840 loss: -125.89942 -logZ: -125.92775166903944 ESS: 0.9444310017647461 loss var: 0.05648892\n",
            "Epoch: 841 loss: -125.89972 -logZ: -125.92746175204725 ESS: 0.9456711503987801 loss var: 0.055398893\n",
            "Epoch: 842 loss: -125.898094 -logZ: -125.92624104892225 ESS: 0.9454403018339804 loss var: 0.056368973\n",
            "Epoch: 843 loss: -125.90522 -logZ: -125.93324483310194 ESS: 0.9453248986846781 loss var: 0.055883385\n",
            "Epoch: 844 loss: -125.899994 -logZ: -125.92749226962538 ESS: 0.9459886592139403 loss var: 0.054820705\n",
            "Epoch: 845 loss: -125.900246 -logZ: -125.92663777743788 ESS: 0.9486194151948592 loss var: 0.05286009\n",
            "Epoch: 846 loss: -125.898506 -logZ: -125.92572225009413 ESS: 0.947201946484349 loss var: 0.05456885\n",
            "Epoch: 847 loss: -125.893906 -logZ: -125.92091573153944 ESS: 0.9472886693823537 loss var: 0.054048795\n",
            "Epoch: 848 loss: -125.900375 -logZ: -125.92712605868788 ESS: 0.9476934812369849 loss var: 0.053415667\n",
            "Epoch: 849 loss: -125.90401 -logZ: -125.93112386142225 ESS: 0.9470285245056781 loss var: 0.05416932\n",
            "Epoch: 850 loss: -125.89567 -logZ: -125.92250264560194 ESS: 0.9473464890588018 loss var: 0.05351889\n",
            "Epoch: 851 loss: -125.8994 -logZ: -125.92610371982069 ESS: 0.9476356403824612 loss var: 0.053242896\n",
            "Epoch: 852 loss: -125.8986 -logZ: -125.92462361728163 ESS: 0.9492275509511608 loss var: 0.052064057\n",
            "Epoch: 853 loss: -125.896996 -logZ: -125.92381490146131 ESS: 0.9469996239296848 loss var: 0.05333314\n",
            "Epoch: 854 loss: -125.90375 -logZ: -125.93025411044569 ESS: 0.9480984660828519 loss var: 0.052974652\n",
            "Epoch: 855 loss: -125.90097 -logZ: -125.92598164950819 ESS: 0.9509672307461949 loss var: 0.04987814\n",
            "Epoch: 856 loss: -125.904396 -logZ: -125.9294759122035 ESS: 0.9511994288236024 loss var: 0.05026891\n",
            "Epoch: 857 loss: -125.89841 -logZ: -125.92401326571913 ESS: 0.9498070903134384 loss var: 0.0511203\n",
            "Epoch: 858 loss: -125.89877 -logZ: -125.92363179599256 ESS: 0.9512865177187996 loss var: 0.04961894\n",
            "Epoch: 859 loss: -125.9032 -logZ: -125.92892659579725 ESS: 0.9496042112994503 loss var: 0.05139988\n",
            "Epoch: 860 loss: -125.89831 -logZ: -125.92340291415663 ESS: 0.9508221357325545 loss var: 0.050104603\n",
            "Epoch: 861 loss: -125.901924 -logZ: -125.92669881259413 ESS: 0.9513155491224051 loss var: 0.049436204\n",
            "Epoch: 862 loss: -125.897224 -logZ: -125.92204488193006 ESS: 0.9514607194306983 loss var: 0.049567748\n",
            "Epoch: 863 loss: -125.89878 -logZ: -125.92372334872694 ESS: 0.9512574872011487 loss var: 0.049904037\n",
            "Epoch: 864 loss: -125.90167 -logZ: -125.92573750888319 ESS: 0.9523612699261246 loss var: 0.04783213\n",
            "Epoch: 865 loss: -125.8985 -logZ: -125.92267049228163 ESS: 0.9528845613094847 loss var: 0.048420105\n",
            "Epoch: 866 loss: -125.90085 -logZ: -125.92491353427381 ESS: 0.9527973261157243 loss var: 0.0480744\n",
            "Epoch: 867 loss: -125.90151 -logZ: -125.92596639071913 ESS: 0.9520416222268914 loss var: 0.048818517\n",
            "Epoch: 868 loss: -125.89862 -logZ: -125.922273763766 ESS: 0.9536991416994384 loss var: 0.047273133\n",
            "Epoch: 869 loss: -125.8976 -logZ: -125.92149556552381 ESS: 0.9528554820241577 loss var: 0.0476146\n",
            "Epoch: 870 loss: -125.9052 -logZ: -125.92880452548475 ESS: 0.9536991416994384 loss var: 0.04710289\n",
            "Epoch: 871 loss: -125.903595 -logZ: -125.926668295016 ESS: 0.9549806037383285 loss var: 0.0461403\n",
            "Epoch: 872 loss: -125.90189 -logZ: -125.92514241610975 ESS: 0.954514418439442 loss var: 0.046491437\n",
            "Epoch: 873 loss: -125.90252 -logZ: -125.92546285068006 ESS: 0.9552137817627441 loss var: 0.04593283\n",
            "Epoch: 874 loss: -125.90269 -logZ: -125.92616475497694 ESS: 0.9540775764072339 loss var: 0.046974752\n",
            "Epoch: 875 loss: -125.89932 -logZ: -125.92297566806288 ESS: 0.9533499505853688 loss var: 0.047176242\n",
            "Epoch: 876 loss: -125.903244 -logZ: -125.92602742587538 ESS: 0.9553303921247751 loss var: 0.04547806\n",
            "Epoch: 877 loss: -125.90162 -logZ: -125.92457784091444 ESS: 0.954951460487839 loss var: 0.045852475\n",
            "Epoch: 878 loss: -125.90732 -logZ: -125.92981160556288 ESS: 0.9556219803141074 loss var: 0.04484046\n",
            "Epoch: 879 loss: -125.900024 -logZ: -125.92198384677381 ESS: 0.9569644327150955 loss var: 0.043882612\n",
            "Epoch: 880 loss: -125.9015 -logZ: -125.92439473544569 ESS: 0.9551263333322436 loss var: 0.045734305\n",
            "Epoch: 881 loss: -125.90166 -logZ: -125.92418111239881 ESS: 0.9557386405081044 loss var: 0.04490315\n",
            "Epoch: 882 loss: -125.902824 -logZ: -125.92482198153944 ESS: 0.9567016306755715 loss var: 0.043825306\n",
            "Epoch: 883 loss: -125.903725 -logZ: -125.92634786044569 ESS: 0.9555053343599873 loss var: 0.04514478\n",
            "Epoch: 884 loss: -125.90261 -logZ: -125.92456258212538 ESS: 0.9567600248911163 loss var: 0.043782484\n",
            "Epoch: 885 loss: -125.904495 -logZ: -125.92675984775038 ESS: 0.9562929709463338 loss var: 0.044466928\n",
            "Epoch: 886 loss: -125.90255 -logZ: -125.92430318271131 ESS: 0.9572273069452689 loss var: 0.043447312\n",
            "Epoch: 887 loss: -125.904495 -logZ: -125.92695821200819 ESS: 0.9556803086310127 loss var: 0.044762775\n",
            "Epoch: 888 loss: -125.90392 -logZ: -125.9250813809535 ESS: 0.9584550084563731 loss var: 0.04233755\n",
            "Epoch: 889 loss: -125.9022 -logZ: -125.92335713778944 ESS: 0.9583965107903984 loss var: 0.04226182\n",
            "Epoch: 890 loss: -125.906586 -logZ: -125.92746175204725 ESS: 0.9588353303264484 loss var: 0.041675013\n",
            "Epoch: 891 loss: -125.90917 -logZ: -125.93023885165663 ESS: 0.9586012682428247 loss var: 0.042047974\n",
            "Epoch: 892 loss: -125.90526 -logZ: -125.92631734286756 ESS: 0.9586012682428247 loss var: 0.04205647\n",
            "Epoch: 893 loss: -125.90712 -logZ: -125.9284993497035 ESS: 0.9580163629780173 loss var: 0.04270205\n",
            "Epoch: 894 loss: -125.90185 -logZ: -125.92222798739881 ESS: 0.9598893171483697 loss var: 0.040704716\n",
            "Epoch: 895 loss: -125.90446 -logZ: -125.92500508700819 ESS: 0.9597721503109017 loss var: 0.04113186\n",
            "Epoch: 896 loss: -125.90657 -logZ: -125.92683614169569 ESS: 0.9602115997089026 loss var: 0.04046531\n",
            "Epoch: 897 loss: -125.907745 -logZ: -125.92805684482069 ESS: 0.9603874358017501 loss var: 0.04068736\n",
            "Epoch: 898 loss: -125.89932 -logZ: -125.92000020419569 ESS: 0.9591279883012627 loss var: 0.041200913\n",
            "Epoch: 899 loss: -125.90702 -logZ: -125.92746175204725 ESS: 0.9598600240981208 loss var: 0.04091452\n",
            "Epoch: 900 loss: -125.90632 -logZ: -125.92686665927381 ESS: 0.9593914568513393 loss var: 0.040922754\n",
            "Epoch: 901 loss: -125.90681 -logZ: -125.926668295016 ESS: 0.9606805675138483 loss var: 0.039605085\n",
            "Epoch: 902 loss: -125.905334 -logZ: -125.92584432040663 ESS: 0.9596257118756552 loss var: 0.041001406\n",
            "Epoch: 903 loss: -125.90717 -logZ: -125.92686665927381 ESS: 0.9611790967734931 loss var: 0.039319597\n",
            "Epoch: 904 loss: -125.906296 -logZ: -125.92596639071913 ESS: 0.9613257722545492 loss var: 0.03931156\n",
            "Epoch: 905 loss: -125.910484 -logZ: -125.93004048739881 ESS: 0.9615311555315773 loss var: 0.039053712\n",
            "Epoch: 906 loss: -125.905136 -logZ: -125.92491353427381 ESS: 0.9610617725018324 loss var: 0.039435256\n",
            "Epoch: 907 loss: -125.906075 -logZ: -125.92628682528944 ESS: 0.9599772016630242 loss var: 0.0402758\n",
            "Epoch: 908 loss: -125.90383 -logZ: -125.92309773837538 ESS: 0.9622356599491121 loss var: 0.038575258\n",
            "Epoch: 909 loss: -125.90855 -logZ: -125.92804158603163 ESS: 0.9615311555315773 loss var: 0.03890078\n",
            "Epoch: 910 loss: -125.90617 -logZ: -125.9258138028285 ESS: 0.9612084300792594 loss var: 0.039187614\n",
            "Epoch: 911 loss: -125.904625 -logZ: -125.92430318271131 ESS: 0.9612670993764048 loss var: 0.039287053\n",
            "Epoch: 912 loss: -125.90851 -logZ: -125.92804158603163 ESS: 0.9615898445269222 loss var: 0.039073154\n",
            "Epoch: 913 loss: -125.9095 -logZ: -125.92822469150038 ESS: 0.9629406805501023 loss var: 0.03735664\n",
            "Epoch: 914 loss: -125.90496 -logZ: -125.92424214755506 ESS: 0.9621769315375248 loss var: 0.038583465\n",
            "Epoch: 915 loss: -125.90676 -logZ: -125.92578328525038 ESS: 0.9622650254991196 loss var: 0.03784809\n",
            "Epoch: 916 loss: -125.90655 -logZ: -125.92537129794569 ESS: 0.9629994555786523 loss var: 0.03765225\n",
            "Epoch: 917 loss: -125.904274 -logZ: -125.92283833896131 ESS: 0.9633815807181694 loss var: 0.03709879\n",
            "Epoch: 918 loss: -125.90625 -logZ: -125.92523396884413 ESS: 0.9626762373104814 loss var: 0.037938874\n",
            "Epoch: 919 loss: -125.90817 -logZ: -125.92660725985975 ESS: 0.9635874032101769 loss var: 0.03676484\n",
            "Epoch: 920 loss: -125.906395 -logZ: -125.925203451266 ESS: 0.9628525247332717 loss var: 0.03752816\n",
            "Epoch: 921 loss: -125.90855 -logZ: -125.92708028232069 ESS: 0.9634991881868287 loss var: 0.0370201\n",
            "Epoch: 922 loss: -125.90567 -logZ: -125.92424214755506 ESS: 0.9634991881868287 loss var: 0.037095767\n",
            "Epoch: 923 loss: -125.90772 -logZ: -125.92608846103163 ESS: 0.9638815116238542 loss var: 0.036707204\n",
            "Epoch: 924 loss: -125.91101 -logZ: -125.92917073642225 ESS: 0.9643228425687977 loss var: 0.03630309\n",
            "Epoch: 925 loss: -125.90772 -logZ: -125.92636311923475 ESS: 0.9629994555786523 loss var: 0.037061147\n",
            "Epoch: 926 loss: -125.90371 -logZ: -125.92221272860975 ESS: 0.9634403826579515 loss var: 0.036898352\n",
            "Epoch: 927 loss: -125.91219 -logZ: -125.93000996982069 ESS: 0.9647643755852623 loss var: 0.035485122\n",
            "Epoch: 928 loss: -125.90962 -logZ: -125.92770589267225 ESS: 0.9643817019603972 loss var: 0.036112987\n",
            "Epoch: 929 loss: -125.9068 -logZ: -125.92460835849256 ESS: 0.9647938183067245 loss var: 0.035520516\n",
            "Epoch: 930 loss: -125.90917 -logZ: -125.92704976474256 ESS: 0.9647938183067245 loss var: 0.035706796\n",
            "Epoch: 931 loss: -125.90655 -logZ: -125.92469991122694 ESS: 0.9642934142201551 loss var: 0.0362859\n",
            "Epoch: 932 loss: -125.91127 -logZ: -125.92892659579725 ESS: 0.9652650240694269 loss var: 0.035328053\n",
            "Epoch: 933 loss: -125.90617 -logZ: -125.92489827548475 ESS: 0.9630288444382084 loss var: 0.037368774\n",
            "Epoch: 934 loss: -125.90792 -logZ: -125.92601216708631 ESS: 0.9642345602170473 loss var: 0.03606034\n",
            "Epoch: 935 loss: -125.90627 -logZ: -125.92402852450819 ESS: 0.964882151862426 loss var: 0.0354788\n",
            "Epoch: 936 loss: -125.90902 -logZ: -125.92671407138319 ESS: 0.9650293924279584 loss var: 0.03531069\n",
            "Epoch: 937 loss: -125.91017 -logZ: -125.9275227872035 ESS: 0.9657659323568254 loss var: 0.034633964\n",
            "Epoch: 938 loss: -125.90839 -logZ: -125.92573750888319 ESS: 0.9656480482028849 loss var: 0.03459974\n",
            "Epoch: 939 loss: -125.91027 -logZ: -125.92808736239881 ESS: 0.9651177475521022 loss var: 0.0356633\n",
            "Epoch: 940 loss: -125.906235 -logZ: -125.92367757235975 ESS: 0.9656480482028849 loss var: 0.034848645\n",
            "Epoch: 941 loss: -125.911156 -logZ: -125.92880452548475 ESS: 0.9651766554623322 loss var: 0.035193313\n",
            "Epoch: 942 loss: -125.90833 -logZ: -125.925691732516 ESS: 0.9659427855714735 loss var: 0.03474567\n",
            "Epoch: 943 loss: -125.90995 -logZ: -125.92737019931288 ESS: 0.9655596445304887 loss var: 0.034723736\n",
            "Epoch: 944 loss: -125.9104 -logZ: -125.92784322177381 ESS: 0.9655007132451745 loss var: 0.034813415\n",
            "Epoch: 945 loss: -125.908875 -logZ: -125.92616475497694 ESS: 0.9658543549163007 loss var: 0.03450084\n",
            "Epoch: 946 loss: -125.90755 -logZ: -125.92473042880506 ESS: 0.9660901879892144 loss var: 0.034329288\n",
            "Epoch: 947 loss: -125.9078 -logZ: -125.92489827548475 ESS: 0.9662081261185911 loss var: 0.034133\n",
            "Epoch: 948 loss: -125.909874 -logZ: -125.92706502353163 ESS: 0.9660901879892144 loss var: 0.034356765\n",
            "Epoch: 949 loss: -125.90997 -logZ: -125.92726338778944 ESS: 0.9657364599692493 loss var: 0.034458734\n",
            "Epoch: 950 loss: -125.909225 -logZ: -125.92665303622694 ESS: 0.9653828614646378 loss var: 0.034729797\n",
            "Epoch: 951 loss: -125.90666 -logZ: -125.92405904208631 ESS: 0.9655891115220032 loss var: 0.03475211\n",
            "Epoch: 952 loss: -125.910774 -logZ: -125.92834676181288 ESS: 0.9653534007672794 loss var: 0.035110816\n",
            "Epoch: 953 loss: -125.9123 -logZ: -125.92926228915663 ESS: 0.9665325302174077 loss var: 0.03392011\n",
            "Epoch: 954 loss: -125.91027 -logZ: -125.92762959872694 ESS: 0.9655596445304887 loss var: 0.03455905\n",
            "Epoch: 955 loss: -125.9137 -logZ: -125.930818685641 ESS: 0.9662081261185911 loss var: 0.034182068\n",
            "Epoch: 956 loss: -125.90722 -logZ: -125.92396748935194 ESS: 0.9668275375496772 loss var: 0.03338145\n",
            "Epoch: 957 loss: -125.9069 -logZ: -125.92418111239881 ESS: 0.9658543549163007 loss var: 0.03450631\n",
            "Epoch: 958 loss: -125.90892 -logZ: -125.92550862704725 ESS: 0.9672406990929683 loss var: 0.03315509\n",
            "Epoch: 959 loss: -125.908424 -logZ: -125.92579854403944 ESS: 0.9658248798303235 loss var: 0.03473062\n",
            "Epoch: 960 loss: -125.907875 -logZ: -125.92517293368788 ESS: 0.9657069884810857 loss var: 0.034467097\n",
            "Epoch: 961 loss: -125.91105 -logZ: -125.92822469150038 ESS: 0.9660901879892144 loss var: 0.03425875\n",
            "Epoch: 962 loss: -125.90855 -logZ: -125.92518819247694 ESS: 0.9669750749801566 loss var: 0.03317108\n",
            "Epoch: 963 loss: -125.90657 -logZ: -125.92372334872694 ESS: 0.9659722642557034 loss var: 0.034150988\n",
            "Epoch: 964 loss: -125.90586 -logZ: -125.92291463290663 ESS: 0.9664440455719714 loss var: 0.034124766\n",
            "Epoch: 965 loss: -125.9114 -logZ: -125.92772115146131 ESS: 0.9678017007495681 loss var: 0.03259853\n",
            "Epoch: 966 loss: -125.91006 -logZ: -125.92718709384413 ESS: 0.9662376129004951 loss var: 0.034255393\n",
            "Epoch: 967 loss: -125.911606 -logZ: -125.92842305575819 ESS: 0.9668275375496772 loss var: 0.033573307\n",
            "Epoch: 968 loss: -125.9118 -logZ: -125.92939961825819 ESS: 0.9652061107657697 loss var: 0.03508825\n",
            "Epoch: 969 loss: -125.90735 -logZ: -125.92392171298475 ESS: 0.967093121134558 loss var: 0.033014767\n",
            "Epoch: 970 loss: -125.90747 -logZ: -125.92439473544569 ESS: 0.9664735395536757 loss var: 0.033729058\n",
            "Epoch: 971 loss: -125.91007 -logZ: -125.9267903653285 ESS: 0.96691605730646 loss var: 0.03336564\n",
            "Epoch: 972 loss: -125.9106 -logZ: -125.92756856357069 ESS: 0.9664440455719714 loss var: 0.033849295\n",
            "Epoch: 973 loss: -125.90772 -logZ: -125.92503560458631 ESS: 0.9657364599692493 loss var: 0.03453926\n",
            "Epoch: 974 loss: -125.90992 -logZ: -125.92645467196913 ESS: 0.9671521496157027 loss var: 0.032968003\n",
            "Epoch: 975 loss: -125.91037 -logZ: -125.92744649325819 ESS: 0.9662671005822782 loss var: 0.034042392\n",
            "Epoch: 976 loss: -125.91107 -logZ: -125.92805684482069 ESS: 0.9666210229642261 loss var: 0.03404187\n",
            "Epoch: 977 loss: -125.906944 -logZ: -125.92309773837538 ESS: 0.968126639890606 loss var: 0.03223115\n",
            "Epoch: 978 loss: -125.907974 -logZ: -125.92492879306288 ESS: 0.9662965891639677 loss var: 0.033779968\n",
            "Epoch: 979 loss: -125.90912 -logZ: -125.92604268466444 ESS: 0.966414552490338 loss var: 0.033717696\n",
            "Epoch: 980 loss: -125.909996 -logZ: -125.92668355380506 ESS: 0.96691605730646 loss var: 0.033243433\n",
            "Epoch: 981 loss: -125.91035 -logZ: -125.9270345059535 ESS: 0.9669455656930394 loss var: 0.033193324\n",
            "Epoch: 982 loss: -125.91177 -logZ: -125.928377279391 ESS: 0.9672702173869797 loss var: 0.03322137\n",
            "Epoch: 983 loss: -125.90823 -logZ: -125.92523396884413 ESS: 0.9663555690271755 loss var: 0.03390794\n",
            "Epoch: 984 loss: -125.91005 -logZ: -125.92682088290663 ESS: 0.9667685288806762 loss var: 0.03338396\n",
            "Epoch: 985 loss: -125.90763 -logZ: -125.92433370028944 ESS: 0.9668570432348066 loss var: 0.033288978\n",
            "Epoch: 986 loss: -125.90497 -logZ: -125.92193807040663 ESS: 0.9665030344354787 loss var: 0.033851627\n",
            "Epoch: 987 loss: -125.90682 -logZ: -125.92343343173475 ESS: 0.9672406990929683 loss var: 0.033185743\n",
            "Epoch: 988 loss: -125.9095 -logZ: -125.92624104892225 ESS: 0.9668275375496772 loss var: 0.033400863\n",
            "Epoch: 989 loss: -125.90939 -logZ: -125.92628682528944 ESS: 0.9664735395536757 loss var: 0.03366877\n",
            "Epoch: 990 loss: -125.90964 -logZ: -125.92619527255506 ESS: 0.9673292566775518 loss var: 0.033062868\n",
            "Epoch: 991 loss: -125.91072 -logZ: -125.92759908114881 ESS: 0.9667685288806762 loss var: 0.033724718\n",
            "Epoch: 992 loss: -125.90796 -logZ: -125.92486775790663 ESS: 0.9668865498203917 loss var: 0.03387092\n",
            "Epoch: 993 loss: -125.90812 -logZ: -125.9245930997035 ESS: 0.9675654498778622 loss var: 0.0329496\n",
            "Epoch: 994 loss: -125.91085 -logZ: -125.92759908114881 ESS: 0.9668865498203917 loss var: 0.033444706\n",
            "Epoch: 995 loss: -125.91088 -logZ: -125.92737019931288 ESS: 0.9672997365818315 loss var: 0.03287485\n",
            "Epoch: 996 loss: -125.906876 -logZ: -125.92358601962538 ESS: 0.9669455656930394 loss var: 0.03336408\n",
            "Epoch: 997 loss: -125.91237 -logZ: -125.92943013583631 ESS: 0.9663260786455908 loss var: 0.03409048\n",
            "Epoch: 998 loss: -125.90866 -logZ: -125.9253255215785 ESS: 0.9670045851678396 loss var: 0.03323126\n",
            "Epoch: 999 loss: -125.908295 -logZ: -125.925447591891 ESS: 0.9659427855714735 loss var: 0.0341731\n"
          ]
        }
      ]
    },
    {
      "cell_type": "code",
      "source": [
        "#Learning Curve"
      ],
      "metadata": {
        "id": "oSm7qZA_t7qp"
      },
      "execution_count": null,
      "outputs": []
    },
    {
      "cell_type": "markdown",
      "source": [
        "### Learning Curve"
      ],
      "metadata": {
        "id": "HjVOOAqeRlNS"
      }
    },
    {
      "cell_type": "markdown",
      "source": [
        "Loss:"
      ],
      "metadata": {
        "id": "UgJFpLBBRjf5"
      }
    },
    {
      "cell_type": "code",
      "source": [
        "#Loss\n",
        "varbF=np.asarray(history['loss'])\n",
        "plt.plot(varbF)\n",
        "plt.ylabel(r'$loss$', fontsize=20)\n",
        "plt.xlabel(r'$epoch$', fontsize=20)"
      ],
      "metadata": {
        "colab": {
          "base_uri": "https://localhost:8080/",
          "height": 490
        },
        "id": "F8CMZaQfzmfF",
        "outputId": "6867fb4c-f9e9-4e24-a774-4e29bb991bc9"
      },
      "execution_count": 19,
      "outputs": [
        {
          "output_type": "execute_result",
          "data": {
            "text/plain": [
              "Text(0.5, 0, '$epoch$')"
            ]
          },
          "metadata": {},
          "execution_count": 19
        },
        {
          "output_type": "display_data",
          "data": {
            "text/plain": [
              "<Figure size 640x480 with 1 Axes>"
            ],
            "image/png": "[encoded data removed]"
          },
          "metadata": {}
        }
      ]
    },
    {
      "cell_type": "markdown",
      "source": [
        "ESS:"
      ],
      "metadata": {
        "id": "l53f1UoXRhUC"
      }
    },
    {
      "cell_type": "code",
      "source": [
        "#ESS\n",
        "ESS=np.asarray(history['ESS'])\n",
        "plt.plot(ESS)\n",
        "plt.grid()\n",
        "plt.ylabel(r'$ESS$', fontsize=20)\n",
        "plt.xlabel(r'$epoch$', fontsize=20)"
      ],
      "metadata": {
        "colab": {
          "base_uri": "https://localhost:8080/",
          "height": 484
        },
        "id": "sCT1BD-v0GrE",
        "outputId": "8586eb7c-1584-4c07-b75a-7d3d5f0dac57"
      },
      "execution_count": 20,
      "outputs": [
        {
          "output_type": "execute_result",
          "data": {
            "text/plain": [
              "Text(0.5, 0, '$epoch$')"
            ]
          },
          "metadata": {},
          "execution_count": 20
        },
        {
          "output_type": "display_data",
          "data": {
            "text/plain": [
              "<Figure size 640x480 with 1 Axes>"
            ],
            "image/png": "[encoded data removed]"
          },
          "metadata": {}
        }
      ]
    },
    {
      "cell_type": "markdown",
      "source": [
        "### Simple test of $-\\log Z$ and ESS on 50k samples"
      ],
      "metadata": {
        "id": "sx3XXoe9Rw9b"
      }
    },
    {
      "cell_type": "code",
      "source": [
        "z = prior.sample_n(50000)\n",
        "logz=prior.log_prob(z)\n",
        "phi,logphi = odeint(g,(z,logz),times,method='rk4')"
      ],
      "metadata": {
        "id": "fi7Cw7j7wT5E"
      },
      "execution_count": 21,
      "outputs": []
    },
    {
      "cell_type": "code",
      "source": [
        "s=S(phi[-1].reshape((-1,L,R)),sigma)\n",
        "w = logphi[-1]+s"
      ],
      "metadata": {
        "id": "ixTxQatrxahN"
      },
      "execution_count": 22,
      "outputs": []
    },
    {
      "cell_type": "code",
      "source": [
        "ess,bF=compute_metrics(grab(w))"
      ],
      "metadata": {
        "id": "Ovw-DtbUk_Oy"
      },
      "execution_count": 23,
      "outputs": []
    },
    {
      "cell_type": "code",
      "source": [
        "ess"
      ],
      "metadata": {
        "id": "nWtb-fAUk_MN",
        "colab": {
          "base_uri": "https://localhost:8080/"
        },
        "outputId": "b6b3c11f-bb78-4df9-843f-9fcf268c5144"
      },
      "execution_count": 24,
      "outputs": [
        {
          "output_type": "execute_result",
          "data": {
            "text/plain": [
              "0.966353754910973"
            ]
          },
          "metadata": {},
          "execution_count": 24
        }
      ]
    },
    {
      "cell_type": "code",
      "source": [
        "bF"
      ],
      "metadata": {
        "colab": {
          "base_uri": "https://localhost:8080/"
        },
        "id": "g1lq12MZxiEM",
        "outputId": "3422b258-52ea-4c16-ff4f-7c521519b696"
      },
      "execution_count": 25,
      "outputs": [
        {
          "output_type": "execute_result",
          "data": {
            "text/plain": [
              "-125.9272157341444"
            ]
          },
          "metadata": {},
          "execution_count": 25
        }
      ]
    },
    {
      "cell_type": "code",
      "source": [],
      "metadata": {
        "id": "xnC2MiUXxdEC"
      },
      "execution_count": null,
      "outputs": []
    }
  ]
}